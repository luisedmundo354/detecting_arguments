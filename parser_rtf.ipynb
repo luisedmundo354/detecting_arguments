{
 "cells": [
  {
   "cell_type": "code",
   "execution_count": 3,
   "metadata": {
    "collapsed": false
   },
   "outputs": [],
   "source": [
    "from pathlib import Path\n",
    "from striprtf.striprtf import rtf_to_text"
   ]
  },
  {
   "cell_type": "code",
   "execution_count": 11,
   "metadata": {
    "collapsed": false
   },
   "outputs": [],
   "source": [
    "document_name = \"Seagate Technology Inc v CIR.rtf\"\n",
    "rtf_file_path = Path(\"rtf_files\") / document_name\n",
    "\n",
    "if not rtf_file_path.exists():\n",
    "    print(\"File not found:\", rtf_file_path.resolve())\n",
    "else:\n",
    "    with rtf_file_path.open('r') as file:\n",
    "        rtf_content = file.read()\n",
    "\n",
    "    plain_text = rtf_to_text(rtf_content)\n",
    "    #print(plain_text)"
   ]
  },
  {
   "cell_type": "code",
   "execution_count": 5,
   "metadata": {
    "collapsed": false
   },
   "outputs": [],
   "source": [
    "import json\n",
    "\n",
    "def split_text(text):\n",
    "    \"\"\"\n",
    "    Splits the text into two parts.\n",
    "    The first part (\"Backgroun\") is everything before a line that exactly equals \"discussion\"\n",
    "    (case-insensitive). The second part (\"discussion\") is everything after that line.\n",
    "    If no such line exists, the entire text is placed in \"Backgroun\" and \"discussion\" is empty.\n",
    "    \"\"\"\n",
    "    lines = text.splitlines()\n",
    "    split_index = None\n",
    "\n",
    "    # Find the line index where the line equals \"discussion\"\n",
    "    for i, line in enumerate(lines):\n",
    "        if line.strip().lower() == \"discussion\":\n",
    "            print('Discussion section found')\n",
    "            split_index = i\n",
    "            break\n",
    "\n",
    "    if split_index is None:\n",
    "        # No split marker found; use the entire text as background\n",
    "        background = text\n",
    "        discussion = \"\"\n",
    "    else:\n",
    "        background = \"\\n\".join(lines[:split_index])\n",
    "        discussion = \"\\n\".join(lines[split_index + 1:])\n",
    "\n",
    "    return {\"Background\": background, \"Discussion\": discussion}"
   ]
  },
  {
   "cell_type": "code",
   "execution_count": 6,
   "metadata": {
    "collapsed": false
   },
   "outputs": [
    {
     "name": "stdout",
     "output_type": "stream",
     "text": [
      "Processed corporate_tax_cases/State Farm Road Corp v Commissioner of Internal Revenue.rtf\n"
     ]
    },
    {
     "name": "stdout",
     "output_type": "stream",
     "text": [
      "Processed corporate_tax_cases/Thompson Engineering Company Inc v Commissioner of Internal Revenue.rtf\n"
     ]
    },
    {
     "name": "stdout",
     "output_type": "stream",
     "text": [
      "Processed corporate_tax_cases/Litton Industries Inc v Commissioner of Internal Revenue.rtf\n",
      "Processed corporate_tax_cases/Meredith Corpand Subsidiaries v CIR.rtf\n"
     ]
    },
    {
     "name": "stdout",
     "output_type": "stream",
     "text": [
      "Processed corporate_tax_cases/Santa Monica Pictures LLC v CIR.rtf\n",
      "Processed corporate_tax_cases/Jelle v CIR.rtf\n",
      "Discussion section found\n",
      "Processed corporate_tax_cases/FX Systems Corp v Commissioner of Internal Revenue.rtf\n"
     ]
    },
    {
     "name": "stdout",
     "output_type": "stream",
     "text": [
      "Processed corporate_tax_cases/The Coca-Cola Company And Subsidiaries v Commissioner of Internal Revenue.rtf\n"
     ]
    },
    {
     "name": "stdout",
     "output_type": "stream",
     "text": [
      "Processed corporate_tax_cases/Ralphs Grocery Co v CIR.rtf\n",
      "Discussion section found\n",
      "Processed corporate_tax_cases/South Tulsa Pathology Laboratory Inc v CIR.rtf\n",
      "Processed corporate_tax_cases/Charles Schwab Corp and Subsidiaries v CIR.rtf\n",
      "Processed corporate_tax_cases/Lockwood v CIR.rtf\n"
     ]
    },
    {
     "name": "stdout",
     "output_type": "stream",
     "text": [
      "Processed corporate_tax_cases/Gerdau Macsteel Inc v CIR.rtf\n",
      "Processed corporate_tax_cases/Kenyatta Corp v CIR.rtf\n"
     ]
    },
    {
     "name": "stdout",
     "output_type": "stream",
     "text": [
      "Processed corporate_tax_cases/PepsiCo Puerto Rico Inc v CIR.rtf\n",
      "Processed corporate_tax_cases/Winn-Dixie Stores Inc v CIR.rtf\n",
      "Discussion section found\n"
     ]
    },
    {
     "name": "stdout",
     "output_type": "stream",
     "text": [
      "Processed corporate_tax_cases/Technalysis Corp v CIR.rtf\n"
     ]
    },
    {
     "name": "stdout",
     "output_type": "stream",
     "text": [
      "Processed corporate_tax_cases/Short Stop Electric Inc v Commissioner of Internal Revenue.rtf\n",
      "Processed corporate_tax_cases/Snow Mfg Co v CIR.rtf\n",
      "Processed corporate_tax_cases/Hillsboro National Bank v Commissioner of Internal Revenue.rtf\n"
     ]
    },
    {
     "name": "stdout",
     "output_type": "stream",
     "text": [
      "Processed corporate_tax_cases/Federal Home Loan Mortg Corp v CIR.rtf\n",
      "Processed corporate_tax_cases/Charfoos v C I R.rtf\n"
     ]
    },
    {
     "name": "stdout",
     "output_type": "stream",
     "text": [
      "Processed corporate_tax_cases/Thor Energy Resources and Subsidiares v CIR.rtf\n"
     ]
    },
    {
     "name": "stdout",
     "output_type": "stream",
     "text": [
      "Processed corporate_tax_cases/Deitch v Commissioner of Internal Revenue.rtf\n"
     ]
    },
    {
     "name": "stdout",
     "output_type": "stream",
     "text": [
      "Processed corporate_tax_cases/Hewlett-Packard Co v CIR.rtf\n",
      "Processed corporate_tax_cases/Bleily And Collishaw Inc v Commissioner of Internal Revenue.rtf\n"
     ]
    },
    {
     "name": "stdout",
     "output_type": "stream",
     "text": [
      "Processed corporate_tax_cases/Markell Co Inc v CIR.rtf\n",
      "Processed corporate_tax_cases/Lessinger v CIR.rtf\n"
     ]
    },
    {
     "name": "stdout",
     "output_type": "stream",
     "text": [
      "Processed corporate_tax_cases/Menard Inc v CIR.rtf\n",
      "Processed corporate_tax_cases/JE Seagram Corp v CIR.rtf\n",
      "Discussion section found\n"
     ]
    },
    {
     "name": "stdout",
     "output_type": "stream",
     "text": [
      "Processed corporate_tax_cases/DHL Corp And Subsidiaries v CIR.rtf\n",
      "Processed corporate_tax_cases/Garber Industries Holding Co Inc v CIR.rtf\n",
      "Processed corporate_tax_cases/Donlon I Development Corp v CIR.rtf\n"
     ]
    },
    {
     "name": "stdout",
     "output_type": "stream",
     "text": [
      "Processed corporate_tax_cases/Compaq Computer Corp and Subsidiaries v CIR.rtf\n"
     ]
    },
    {
     "name": "stdout",
     "output_type": "stream",
     "text": [
      "Processed corporate_tax_cases/Blum v CIR.rtf\n",
      "Processed corporate_tax_cases/Saba Partnership v CIR.rtf\n",
      "Document has been split and saved into output.json\n",
      "{\n",
      "    \"Background\": \"\\n\\n\\n\\n\\nKeyCite Yellow Flag - Negative Treatment\\nDistinguished by Virginia Historic Tax Credit Fund 2001 LP v. C.I.R., U.S.Tax Ct., December 21, 2009\\nT.C. Memo. 2003-31\\nUnited States Tax Court.\\nSABA PARTNERSHIP, Brunswick Corporation, Tax Matters Partner, Petitioner\\nv.\\nCOMMISSIONER OF INTERNAL REVENUE, Respondent*\\nOTRABANDA INVESTERINGS PARTNERSHIP, Brunswick Corporation, Tax Matters Partner, Petitioner\\nv.\\nCOMMISSIONER OF INTERNAL REVENUE, Respondent\\nNos. 1470\\u201397, 1471\\u201397.\\n|\\nFeb. 11, 2003.\\nSynopsis\\nCorporate taxpayer petitioned for redetermination of deficiencies arising from losses of partnerships created to absorb capital gains and to allocate partnership losses to taxpayer. The Tax Court decided for IRS, and taxpayer appealed. The Court of Appeals for District of Columbia Circuit, 273 F.3d 1135,vacated and remanded for reconsideration. The Tax Court, Nims, J., held that: (1) partnerships were a sham, and (2) partnerships were not organized or operated for nontax business purpose.\\n\\u00a0\\nDecision for IRS.\\n\\u00a0\\n\\n\\nWest Headnotes (3)\\n\\n\\n[1]\\n|Internal RevenueEvidence\\n|\\n|Taxpayer had burden of proving that partnerships were not shams that should be disregarded for Federal income tax purposes. Tax Court Rule 142(a), 26 U.S.C.A. foll. \\u00a77453.\\n2 Cases that cite this headnote\\n|\\n\\n\\n[2]\\n|Internal RevenueCreation and existence\\n|\\n|Although record did not include an explicit agreement that taxpayer would pay its partner, a foreign bank, a specific fee in exchange for its participation in partnerships, memoranda from partner indicated taxpayer transferred fees to partner in exchange for its participation in the partnerships, evidencing a sham partnership in which partners did not share in profits and losses or conduct business activity for a purpose other than tax avoidance; taxpayer, foreign bank, and brokerage firm understood that taxpayer would pay foreign bank fees to participate in the partnerships, taxpayer used consulting fees and control premium as disguised means to transfer additional amounts to foreign bank, taxpayer had motive and opportunity to inflate those payments to provide remuneration to bank, and parties did not have a nontax business purpose for entering into partnerships.\\n2 Cases that cite this headnote\\n|\\n\\n\\n[3]\\n|Internal RevenueCreation and existence\\n|\\n|Partnerships formed by corporate taxpayer, and foreign bank, with assistance of brokerage firm, were not organized and operated to achieve nontax business purposes, since partnerships\\u2019 relatively modest profits from their short-term investments, including commercial paper, did not demonstrate that partnerships were operated for a nontax business purpose; partnerships could have realized profits from any number of investment strategies at far lower transaction costs than were incurred implementing the brokerage firm\\u2019s tax shelter, and any expected profits from partnerships\\u2019 investments paled in comparison to the millions of dollars of capital losses the partnerships were designed to generate for taxpayer.\\n1 Case that cites this headnote\\n|\\n\\n\\nAttorneys and Law Firms\\nJoel V. Williamson, Thomas C. Durham, and Gary S. Colton, Jr., for petitioner.\\nJill A. Frisch and Lewis R. Mandel, for respondent.\\n\\n\\n\\n\\nSUPPLEMENTAL MEMORANDUM OPINION\\nNIMS, J.\\n*1 During 1990 and 1991, B, a domestic corporation, realized substantial capital gains from the sale of a number of its business units.\\nIn 1990, B joined with a foreign bank (ABN) purportedly to form two general partnerships, S and O. The partnerships engaged in financial transactions that were intended to satisfy the requirements of a contingent installment sale under I.R.C. sec. 453. Relying on the ratable basis recovery rules under sec. 15A.453\\u20131(c), Temporary Income Tax Regs., 46 Fed.Reg. 10709 (Feb. 4, 1981), the transactions were prearranged so that a substantial percentage of the partnerships\\u2019 \\u201cgains\\u201d were allocated to ABN\\u2014a foreign entity that was not subject to U.S. income tax, while a substantial percentage of the partnerships\\u2019 \\u201closses\\u201d were allocated to B. For the taxable years ending 1990 and 1991, B reported capital losses of $142,953,624 and $32,631,287, respectively.\\nHeld: There is no meaningful distinction between the partnerships in these cases and the partnership determined to be a sham in ASA Investerings Pship. v. Commissioner, 201 F.3d 505 (D.C.Cir.2000), affg. T.C. Memo.1998\\u2013305. Held, further, the partnerships were not organized or operated for a nontax business purpose, and therefore, they are disregarded for Federal income tax purposes.\\nThese cases are before the Court on remand from the Court of Appeals for the District of Columbia Circuit. Saba Pship. v. Commissioner, 273 F.3d 1135 (D.C.Cir.2001) (Saba II), vacating and remanding T.C. Memo.1999\\u2013359. In Saba Pship. v. Commissioner, T.C. Memo.1999\\u2013359 (Saba I), we reviewed notices of final partnership administrative adjustment (FPAAs) issued to Saba Partnership (Saba) and Otrabanda Investerings Partnership (Otrabanda) (sometimes, collectively, the partnerships). In the FPAAs, respondent made adjustments to the partnerships\\u2019 tax returns for certain taxable years ending in 1990 and 1991 based on alternative determinations that (1) Saba and Otrabanda were sham partnerships that should be disregarded for Federal income tax purposes; and (2) the partnerships\\u2019 purported contingent installment sale transactions (CINS transactions) under section 453 were shams that should be disregarded for Federal income tax purposes. Unless otherwise indicated, section references are to the Internal Revenue Code in effect for the years in issue, and Rule references are to the Tax Court Rules of Practice and Procedure.\\n\\u00a0\\nPetitioner in these cases is Brunswick Corporation, the partnerships\\u2019 tax matters partner (Brunswick or petitioner).\\n\\u00a0\\nIn Saba I, we described in detail Brunswick\\u2019s divestiture of certain of its business lines, its discussions with representatives of Merrill Lynch regarding a tax shelter that the latter was marketing to certain U.S. corporations, its decision to join with Algemene Bank Nederlands N.V. (ABN) to form the partnerships known as Saba and Otrabanda, and the partnerships\\u2019 purported CINS transactions. We held that the disputed CINS transactions were not motivated by legitimate nontax business purposes, nor were they imbued with objective economic substance. Consequently, we held that the CINS transactions were shams that would not be respected for Federal income tax purposes.\\n\\u00a0\\n*2 In Saba II, the Court of Appeals vacated and remanded these cases\\nfor reconsideration in light of our recent decision in ASA Investerings Partnership v. Commissioner, 201 F.3d 505 (D.C.Cir.2000) [affg. T.C. Memo.1998\\u2013305], where we invalidated what appears to be a similar\\u2014perhaps even identical\\u2014tax shelter on the grounds that the entire partnership, not merely the specific transactions at issue, was a sham for federal tax purposes. [Saba II, 273 F.3d at 1136.]\\nThe Court of Appeals also stated that a remand to this Court was appropriate because\\nin presenting its case in the Tax Court, Brunswick may have acted on the mistaken belief that the Supreme Court\\u2019s decision in Moline Properties, Inc. v. Commissioner, 319 U.S. 436, 63 S.Ct. 1132, 87 L.Ed. 1499 (1943), established a two-part test under which Saba and Otrabanda must be respected simply because they engaged in some business activity, an interpretation that ASA squarely rejected, see ASA, 201 F.3d at 512 * * *. [Saba II, 273 F.3d at 1141.]\\n\\u00a0\\nAt the time of trial in these cases, the parties entered into a series of stipulations of facts. All stipulated facts and exhibits are incorporated herein by this reference. We also incorporate by reference all our findings of fact in Saba I. (For convenience, all citations of Saba I will include citations of the specific page(s) of the Court\\u2019s slip opinion.)\\n\\u00a0\\nAfter these cases were remanded, the parties filed opening briefs and reply briefs addressing the issues raised by the Court of Appeals.\\n\\u00a0\\n[1] Pursuant to the Court of Appeals\\u2019 mandate, we consider whether Saba and Otrabanda are sham partnerships that should be disregarded for Federal income tax purposes. Petitioner bears the burden of proof. Rule 142(a); Brown v. Commissioner, 85 T.C. 968, 998, 1985 WL 15423 (1985), affd. sub nom. Sochin v. Commissioner, 843 F.2d 351 (9th Cir.1988).\\n\\u00a0\\n\\n\\nI. Partnership Status Under Statutory and Case Law\\nPetitioner first contends that Saba and Otrabanda qualify as partnerships for Federal income tax purposes consistent with the statutory definitions of partnerships (and partners) set forth in sections 704(e), 761, and 7701(a)(2), and in accordance with Supreme Court decisions in cases such as Commissioner v. Tower, 327 U.S. 280, 66 S.Ct. 532, 90 L.Ed. 670 (1946), and Commissioner v. Culbertson, 337 U.S. 733, 69 S.Ct. 1210, 93 L.Ed. 1659 (1949). Petitioner avers that \\u201ca person should be treated as a partner when he or she owns capital in a partnership in which capital is a material income-producing factor, without regard to whether the partnership was formed to avoid tax.\\u201d\\n\\u00a0\\nWe need not dwell on this argument because the Court of Appeals did not direct us to evaluate the technical compliance of the partnerships. Instead, the Court of Appeals directed us to consider whether the partnerships should be recognized at all for Federal income tax purposes consistent with the standards the Court articulated in ASA Investerings Pship. v. Commissioner, 201 F.3d 505 (D.C.Cir.2000), affg. T.C. Memo.1998\\u2013305. We were also directed to consider whether Saba and Otrabanda are distinguishable from the partnership that the Court of Appeals determined to be a sham in ASA Investerings Pship.\\n\\u00a0\\n\\n\\nII. Whether Saba and Otrabanda Are Distinguishable From ASA Investerings Partnership\\n*3 Petitioner asserts that the Saba and Otrabanda partnerships were significantly different from the ASA Investerings Partnership, and that Saba and Otrabanda should be recognized as valid partnerships and not shams for Federal income tax purposes. Before addressing petitioner\\u2019s specific arguments, we briefly review the factual background in ASA Investerings Pship. v. Commissioner, supra.\\n\\u00a0\\nIn ASA Investerings Pship., the Commissioner issued an FPAA to a Merrill Lynch-designed partnership whose principal partners were AlliedSignal, Inc., and ABN. The Court of Appeals held that the disputed partnership would not be recognized for Federal income tax purposes on the ground it was not organized to conduct business activity for a purpose other than tax avoidance. In so holding, the Court of Appeals sustained this Court\\u2019s findings that ABN did not share in the partnership\\u2019s profits and losses. Id. at 514. The Court of Appeals agreed that the purported partners did not share profits because \\u201cdirect payments made to ABN were to compensate it merely for its funding costs\\u201d, and \\u201cABN could make no profit from the transaction: any potential profit from the LIBOR notes would be offset by losses from the concomitant swap transactions.\\u201d Id. The Court of Appeals also concluded that \\u201cany risks inherent in ABN\\u2019s investment were de minimis\\u201d because \\u201cThe PPNs were essentially risk free\\u201d, \\u201cany loss on the PPNs would be embedded in the value of the LIBOR notes\\u201d, and ABN \\u201csucceeded in hedging all but a de minimis amount of the risk associated with the LIBOR notes.\\u201d Id. at 514\\u2013515.\\n\\u00a0\\nWe note that after the instant cases were remanded to the Court, the Court of Appeals issued its opinion in Boca Investerings Pship. v. United States, 314 F.3d 625, \\u2013\\u2013\\u2013\\u2013 (D.C.Cir.2003), revg. 167 F.Supp.2d 298 (D.D.C.2001), citing ASA Investerings Pship. v. Commissioner, supra, in support of its holding that another Merrill Lynch-designed partnership would not be recognized as a valid entity for Federal tax purposes because it was not organized for a nontax business purpose.\\n\\u00a0\\nPetitioner contends that Saba and Otrabanda are distinguishable from ASA Investerings Partnership in that (1) Brunswick did not promise a guaranteed or specified return to ABN, and (2) the partners agreed to share partnership expenses and losses. Petitioner made these same claims in arguing its case before the Court of Appeals. Saba II, 273 F.3d at 1140\\u20131141. The Court of Appeals expressed skepticism that petitioner could demonstrate \\u201csignificant differences\\u201d between the actions of Brunswick in these cases and those of AlliedSignal in ASA Investerings Pship. Id. As the discussion which follows reveals, petitioner has failed to demonstrate that there are any significant differences in the two cases.\\n\\u00a0\\n\\n\\nA. Guaranteed or Specified Return\\n[2] Petitioner maintains that there was no agreement among the partners that ABN would be paid a specified return on the funds it contributed to the partnerships. Petitioner further contends that there is no evidence in the record that ABN was in fact paid a specified return on its funds, stating:\\n*4 The payment of a \\u2018specified return\\u2019 would have required detailed calculations of interest rates, time periods, and principal amounts. There is nothing in the Saba record to suggest that any such calculations were ever made. The record in Saba contains thousands of pages of documents, but there is not one scrap of paper which calculates the payments which would be necessary to provide a specified return. The witnesses testified no such calculations were ever made.\\n\\u00a0\\nIt is disingenuous for petitioner to suggest that a determination that Brunswick paid fees to ABN would have required a detailed calculation of interest rates, time periods, and principal amounts. Respondent asserts, and we agree, that Brunswick, ABN, and Merrill Lynch (acting as a middleman) understood that Brunswick would pay ABN fees to participate in the partnerships. Respondent points to internal documents maintained by Brunswick and ABN that refer to anticipated \\u201cfees\\u201d, Brunswick\\u2019s payment of \\u201cconsulting fees\\u201d to ABN, and Merrill Lynch\\u2019s valuation of Saba\\u2019s LIBOR notes as evidence that Brunswick paid ABN fees in exchange for its participation in the partnerships. Respondent contends that the absence of an explicit agreement regarding ABN\\u2019s fees merely reflects Brunswick\\u2019s strict adherence to the warning in the January 26, 1990, memorandum prepared by Judith P. Zelisko, Brunswick\\u2019s Director of Taxes, hereinafter the Zelisko memorandum, that \\u201cthere cannot have been any agreements, negotiations, or understandings of any kind among the Partners\\u201d. Saba I, slip op. at 15\\u201318 (quoting the pertinent portions of the Zelisko memorandum).\\n\\u00a0\\nWe acknowledge that the record in these cases does not include an explicit agreement that Brunswick would pay ABN a specific fee in exchange for its participation in the partnerships. Nor does the record include a detailed calculation of such fees. However, the record contains compelling circumstantial evidence that Brunswick transferred fees to ABN in exchange for its participation in the partnerships. In ASA Investerings Pship. v. Commissioner, 201 F.3d at 514, the Court of Appeals relied upon similar evidence to infer that AlliedSignal made transfers to ABN pursuant to a prearranged agreement to compensate ABN for its funding costs.\\n\\u00a0\\nThe evidence that we find compelling in the instant cases includes the following:\\n\\u2022 The August 7, 1989 memorandum prepared by Johannes den Baas (den. Baas), an ABN vice president, which outlined his understanding of ABN\\u2019s role in the Merrill Lynch tax shelter in pertinent part as follows:\\nThe remuneration for ABN * * * will be 70\\u201380 bps. [basis points] spread over the outstanding participation plus $100,000 upfront fee and all out of pocket expenses covered (legal fees etc.). Since the structure itself will not carry the possibilities for this level of remuneration the income will be received by ABN New York in upfront payments made by the corporation. [Saba I, slip op. at 22.]\\n*5 \\u2022 The Zelisko memorandum which stated in pertinent part:\\n3. Compensation fees to the FP [foreign partner]. Merrill Lynch talked in terms of 40\\u201375 basis points on the FP\\u2019s equity investment. [Saba I, slip op. at 17.]\\n\\u2022 The February 15, 1990 den Baas memorandum (pertaining to the Saba partnership) which stated in pertinent part:\\nABN will receive again an upfront fee representing 75 bps over LIBOR over the outstanding plus the 15 bps funding difference between LIBOR and CP [commercial paper] upfront. The amount will be around $600,000 but we have negotiated a minimum fee of $750,000 upfront excluding ABN Trust Curacao\\u2019s fees. [Saba I, slip op. at 22.]\\n\\u2022 The $535,000 amount that Merrill Lynch characterized as a \\u201cfee\\u201d and added to its valuation of Saba\\u2019s LIBOR notes in conjunction with Brunswick\\u2019s purchase of 50 percent of Sodbury\\u2019s partnership interest. Saba I, slip op. at 38\\u201340.\\n\\u2022 Brunswick\\u2019s payment of $750,000 to ABN over 3 years (ostensibly for consulting services) that Brunswick charged against its Accrued Disposition Costs reserve account allocated to partnership activity. Saba I, slip op. at 39.\\n\\u2022 The June 19, 1990 den Baas memorandum (pertaining to the Otrabanda partnership) which stated in pertinent part:\\nalthough the loan spread will be 30 bps. the transaction will yield 85 bps. over LIBOR (the difference to be paid separately). Total remuneration $600,000 excluding the Trust fee. [Saba I, slip op. at 54.]\\n\\u2022 Brunswick\\u2019s payment of $645,000 to Bartolo in December 1990, ostensibly to gain control of Otrabanda, but referred to in Brunswick\\u2019s accounting records as a fee. Saba I, slip op. at 71.\\n\\u00a0\\nPetitioner contends that ABN did not expect a specified return on the funds that it invested in the partnerships and downplays the mention of \\u201cupfront fees\\u201d in den Baas\\u2019 February 15, 1990, memorandum. Petitioner suggests that den Baas was merely conveying ABN\\u2019s hope \\u201cto earn a certain dollar amount of fees by generating a relationship with Brunswick.\\u201d We reject petitioner\\u2019s interpretation.\\n\\u00a0\\nThe August 7, 1989, memorandum by den Baas unambiguously states that ABN will receive a specified payment from its corporate partner because the partnership\\u2019s proposed investments would not provide ABN with an adequate return on its capital. The February 15, 1990, and June 19, 1990, memoranda by den Baas issued with regard to ABN\\u2019s participation in Saba and Otrabanda, respectively, echo the proposition that ABN will receive payments from its corporate partner; i.e., Brunswick. Consistent with the foregoing, we note that den Baas acknowledged at trial that he understood from the start that the partnerships\\u2019 investments would not provide ABN with the return it required on its funds. These factors demonstrate to our satisfaction that ABN expected that Brunswick would provide remuneration or fees in exchange for ABN\\u2019s participation in the partnerships.\\n\\u00a0\\nThere is also ample evidence in the record that Brunswick transferred fees to ABN. We first observe that petitioner is essentially mum with regard to the $535,000 amount that Merrill Lynch characterized as a fee and added to its valuation of Saba\\u2019s LIBOR notes. The addition of this fee to the value assigned to Saba\\u2019s LIBOR notes had the effect of inflating the price that Brunswick paid ABN (through Sodbury) for 50 percent of its Saba partnership interest.\\n\\u00a0\\n*6 Petitioner\\u2019s reply brief includes an objection to respondent\\u2019s proposed finding of fact that the $535,000 amount represented additional remuneration to Sodbury. Petitioner\\u2019s objection states in pertinent part:\\nRespondent neglects to state that it was Pepe who added the $535,000 to the value of the LIBOR notes, without informing Brunswick. Petitioner agrees that this valuation resulted in a transfer of wealth from Brunswick to Sodbury, however, it would not be accurate to characterize the inadvertent transfer as \\u201cremuneration\\u201d.\\n\\u00a0\\nUnder the circumstances, we assume that petitioner\\u2019s position remains that Brunswick was unaware of the aforementioned fee. In particular, the parties\\u2019 first stipulation of facts addressed Merrill Lynch\\u2019s valuation of Saba\\u2019s LIBOR notes in pertinent part as follows:\\n265. * * * The valuation letters dated July 13, 1990 [Jt. Ex. 148\\u2013J(5) ] and August 17, 1990 [Jt. Ex. 148\\u2013J(8) ] and Saba\\u2019s financial statements consistent with such letter included an additional amount of $535,000 added to Merrill\\u2019s calculated value of the LIBOR Notes. The valuation letter dated September 14, 1990 [Jt. Ex. 148\\u2013J(10) ] and Saba\\u2019s financial statement consistent with such letter included an additional amount of one-fourth of the $535,000, or $133,750, added to Merrill\\u2019s calculated value of the LIBOR Notes.\\n266. Brunswick contends that it was not aware that the July 13, 1990, August 17, 1990, and September 14, 1990 valuation letters included an additional amount of $535,000 (or a pro rata portion thereof, in the case of the September 14 letter) added to Merrill\\u2019s calculated value of the LIBOR Notes. Any references to this additional amount in this Stipulation are not intended as a stipulation that Brunswick was aware of this additional amount. Respondent does not agree with Brunswick\\u2019s contention.\\n\\u00a0\\n272. For purposes of computing the price of the July 13, 1990 purchase, the partners used Merrill\\u2019s LIBOR Note value, set forth in Joint Exhibit 148\\u2013J(5). For purposes of that valuation, Merrill valued the four Fuji and Norinchukin LIBOR Notes held by Saba at $36,215,000, and then added to that amount $2,035,000. This $2,035,000 amount consisted of $1,500,000 of private placement discount and a $535,000 additional amount. Pepe\\u2019s notes (Ex. 136\\u2013J at BC010168) reflect the valuation.\\n\\u00a0\\nBearing in mind the admonition in the Zelisko memorandum that \\u201cthere cannot have been any agreements, negotiations, or understandings of any kind among the Partners\\u201d, we base our evaluation of whether Brunswick actually transferred fees to ABN upon the record as a whole. Saba I, slip op. at 17. Although Brunswick was largely successful in abiding the warning in the Zelisko memorandum and concealing its transfers to ABN, we are convinced for the reasons discussed above that Brunswick did in fact pay ABN to participate in the partnerships.\\n\\u00a0\\nIt simply defies reason to suggest that Brunswick overlooked or was unaware that Merrill Lynch added the $535,000 fee to its valuation of Saba\\u2019s LIBOR notes resulting in what petitioner characterizes as an \\u201cinadvertent transfer\\u201d from Brunswick to ABN. Brunswick must be charged with knowledge of the fee inasmuch as petitioner stipulated that Merrill Lynch\\u2019s valuation letters were provided to Saba and incorporated in Saba\\u2019s financial statements. Petitioner also stipulated that Brunswick relied upon Merrill Lynch\\u2019s valuation to determine the price that it would pay for 50 percent of Sodbury\\u2019s partnership interest. Saba I, slip op. at 38. One could reasonably expect that if the transfer were truly inadvertent, Brunswick would have requested a refund from ABN. However, petitioner does not suggest that Brunswick requested such a refund. Considering all the circumstances, we conclude that Brunswick was fully cognizant of, and acquiesced in, the transfer of a $535,000 fee to ABN as remuneration for its participation in the partnerships.\\n\\u00a0\\n*7 The fact that Brunswick assented to the transfer of $535,000 to ABN leads us to conclude that Brunswick also used the previously mentioned consulting fees and the Otrabanda control premium as disguised means to transfer additional amounts to ABN. Brunswick had the motive and the opportunity to inflate those payments to provide ABN remuneration for its participation in the partnerships. Under the circumstances, we conclude that they did so.\\n\\u00a0\\nPetitioner argues in the alternative that, even assuming that Brunswick made payments to ABN, such payments only provided ABN with a minimum guaranteed return. Petitioner cites S. & M. Plumbing v. Commissioner, 55 T.C. 702, 703, 1971 WL 2607 (1971), and Hunt v. Commissioner, T.C. Memo.1990\\u2013248, for the proposition that a guaranteed minimum payment is not inconsistent with partnership status. Petitioner\\u2019s reliance on the aforementioned cases is misplaced.\\n\\u00a0\\nSuffice it to say that, when an ostensible partner is guaranteed a specified or minimum return on its capital contribution, that factor is one of many that must be considered in determining whether the arrangement constitutes a partnership that will be recognized for Federal tax purposes. See S. & M. Plumbing v. Commissioner, supra at 707. In this regard, in ASA Investerings Pship. v. Commissioner, 201 F.3d at 514, the Court of Appeals rejected the taxpayer\\u2019s reliance on Hunt v. Commissioner, supra, and distinguished the case in part on the ground that \\u201cboth parties [in Hunt ] had a bona fide business purpose for entering into the partnership\\u201d. Given that we conclude (as discussed in detail below) that Brunswick and ABN did not have a nontax business purpose for entering into the partnerships, whether the amounts that Brunswick transferred to ABN are properly characterized as a specified return or a guaranteed minimum return is not dispositive. What is pertinent is our conclusion that Brunswick paid ABN to participate in the Saba and Otrabanda partnerships much the same as AlliedSignal paid ABN to participate in the ASA Investerings Partnership.\\n\\u00a0\\n\\n\\nB. Agreement To Share Partnership Expenses/Losses\\nPetitioner contends that Saba and Otrabanda can be distinguished from the partnership under review in ASA Investerings Pship. v. Commissioner, supra, because Brunswick and its partners shared partnership expenses and losses. Petitioner relies upon the parties\\u2019 stipulations that Saba and Otrabanda paid the partnerships\\u2019 operating expenses. Petitioner further asserts that the partnerships\\u2019 investments were subject to significant risks that were not hedged against, and, therefore, the partners were not fully protected against losses. While acknowledging that \\u201cBrunswick absorbed the friction on the PPNs and IBJ CDs when these instruments were distributed to Brunswick\\u201d, petitioner contends that (1) Brunswick\\u2019s assumption of these costs is not inconsistent with partnership status, and (2) equal sharing of losses among the partners is not required under applicable State law. (Saba and Otrabanda were formed under New York law.) Saba I, slip op. at 26, 56.\\n\\u00a0\\n\\n\\n1. Expenses\\n*8 Although Saba and Otrabanda paid certain operating expenses, Saba I, slip op. at 28\\u201329, 58, 60\\u201361, we agree with respondent that the underlying circumstances beg the question whether Brunswick actually incurred the expenses. The record shows that ABN and Brunswick expected that Brunswick would pay the partnerships\\u2019 operating expenses. The August 7, 1989, memorandum by den Baas (quoted above) expressly stated that ABN would be compensated for out-of-pocket expenses and legal fees. Likewise, the Zelisko memorandum stated in pertinent part that \\u201cLegal fees for BC [Brunswick Corp.] and operating expenses of the Partnership which would be paid by BC, would run about $400,000\\u2014$500,000.\\u201d Saba I, slip op. at 17.\\n\\u00a0\\nBrunswick\\u2019s and ABN\\u2019s expectations that the partnerships\\u2019 operating expenses would be paid by Brunswick were met. As was the case in ASA Investerings Pship. v. Commissioner, supra, a portion of the partnerships\\u2019 expenses and/or losses was in fact shifted to Brunswick through Merrill Lynch\\u2019s valuation of Saba\\u2019s and Otrabanda\\u2019s LIBOR notes. Merrill Lynch valued the LIBOR notes so that Brunswick fully absorbed the private placement discount (totaling $2,250,000) incurred on the sale of the partnerships\\u2019 PPNs and CDs. Saba I, slip op. at 33\\u201338, 62\\u201368.\\n\\u00a0\\nFor the sake of completeness, we note that petitioner contends that Brunswick was unaware of Merrill Lynch\\u2019s application of the private placement discounts. In particular, the parties\\u2019 stipulations state:\\n234. Brunswick contends that it was not aware that Merrill included a discount of $1,500,000 in calculating the sales price of the Chase Notes, and Brunswick contends that it was not aware that Merrill applied such a discount in determining the value of the LIBOR notes on their origination. Any references to this discount in this Stipulation are not intended as a stipulation that Brunswick was aware of the discount. Respondent does not agree with Brunswick\\u2019s contentions.\\n468. Brunswick contends that it was not aware that Merrill included a discount of $750,000 in calculating the sales price of the IBJ CDs, and contends that it was not aware that Merrill applied such a discount in determining the value of the LIBOR notes on their origination. Any references to this discount in this Stipulation are not intended as a stipulation that Brunswick was aware of the discount. Respondent does not agree with Brunswick\\u2019s contentions.\\n\\u00a0\\nLike the $535,000 fee that made its way into Merrill Lynch\\u2019s valuation of Saba\\u2019s LIBOR notes, we find it incredible that Brunswick was unaware that Merrill Lynch added the private placement discounts to the value of the LIBOR notes. Just as before, we charge Brunswick with knowledge of Merrill Lynch\\u2019s valuation methodology inasmuch as Merrill Lynch\\u2019s valuation letters were provided to Saba and Otrabanda and were relied upon by Brunswick to determine the price that it would pay for 50 percent of Sodbury\\u2019s and Bartolo\\u2019s partnership interests. Saba I, slip op. at 38\\u201340, 67\\u201368.\\n\\u00a0\\n*9 We also reject petitioner\\u2019s assertion in its reply brief that Brunswick\\u2019s absorption of the transaction costs relating to the purchases and sales of the PPNs, CDs, and LIBOR notes \\u201cwas not the result of any agreement between ABN and Brunswick\\u201d. As den Baas\\u2019 August 7, 1989, memorandum and the Zelisko memorandum plainly show, ABN and Brunswick understood at the outset that the LIBOR notes would be distributed to Brunswick as a required element in its tax-avoidance plan. Consequently, it follows that Brunswick and ABN must have agreed in advance that Brunswick would absorb the partnerships\\u2019 expenses and losses and that a large portion of those expenses and losses would be transferred to Brunswick through the valuation of the LIBOR notes.\\n\\u00a0\\nWe are not persuaded by petitioner\\u2019s contention that ABN and Brunswick would have shared in the partnerships\\u2019 potential losses from the credit risk, credit spread risk, event risk, and liquidity risk inherent in the partnerships\\u2019 investments. ABN did not assume any more than de minimis risk with regard to the partnerships\\u2019 investments. See ASA Investerings Pship. v. Commissioner, 201 F.3d at 514\\u2013515. First, the partnerships\\u2019 PPNs and CDs posed little or no risk of loss because they were issued by banks with high credit ratings and they were held for less than a month. Saba I, slip. op. at 30\\u201333, 61\\u201362. Second, as discussed above, the private placement discounts attributable to the PPNs and CDs were embedded in the value of the LIBOR notes and were wholly absorbed by Brunswick. Finally, Merrill Lynch arranged swaps for Brunswick and ABN to hedge against interest rate risk. Saba I, slip. op. at 51\\u201353, 75\\u201377. The parties stipulated that ABN entered into hedge transactions outside the partnerships that substantially reduced its risk to fluctuations in the value of the LIBOR notes. See stipulations Nos. 314\\u2013320, 505\\u2013517.\\n\\u00a0\\nBased on the foregoing, we conclude that there are no meaningful differences between the partnerships in the instant cases and the partnership under review in ASA Investerings Pship. v. Commissioner, supra. Although the record does not include an explicit fee agreement between Brunswick and ABN, or a precise accounting of the fees and expenses that Brunswick incurred in carrying out its tax avoidance plan, we further conclude that Brunswick and ABN, with Merrill Lynch\\u2019s assistance, did their best to conceal and obscure the true nature of the underlying transactions.\\n\\u00a0\\n\\n\\nIII. Whether Saba and Otrabanda Engaged In Business Activity in Furtherance of a Nontax Business Purpose\\n[3] As previously mentioned, the Court of Appeals stated that its remand would give petitioner a further opportunity to address the question whether Brunswick entered into the partnerships for a business purpose other than tax avoidance. The Court of Appeals directed that the parties should address the validity of the partnerships in these cases under the rationale of Moline Properties v. Commissioner, 319 U.S. 436, 63 S.Ct. 1132, 87 L.Ed. 1499 (1943), as explicated by the Court of Appeals in ASA Investerings Pship. v. Commissioner, supra at 512, as follows:\\n*10 Getting to the controlling issue, petitioner argues that under the standard established in Moline Properties v. Commissioner, 319 U.S. 436, 63 S.Ct. 1132, 87 L.Ed. 1499 (1943), the partnership cannot be regarded as a sham. The Court there said that a corporation remains a separate taxable entity for tax purposes \\u201cso long as [its] purpose is the equivalent of business activity or is followed by the carrying on of business by the corporation.\\u201d 319 U.S. at 439, 63 S.Ct. 1132, 87 L.Ed. 1499. The Tax Court has since applied Moline to partnership cases. See Bertoli v. Commissioner, 103 T.C. 501, 511\\u201312, 1994 WL 579942 (1994).\\nPetitioner views Moline as establishing a two-part test, under which a tax entity is accepted as real if either: (1) its purpose is \\u201cthe equivalent of business activity\\u201d (not tax avoidance), or (2) it conducts business activities. Moline, 319 U.S. at 439, 63 S.Ct. 1132, 87 L.Ed. 1499. Because ASA \\u201cengaged in more than sufficient business activity to be respected as a genuine entity,\\u201d petitioner argues that ASA was a partnership under the second alternative. Petitioner\\u2019s Reply Br. at 13. We agree if engaging in business activity were sufficient to validate a partnership ASA would qualify. It was infused with a substantial amount in capital ($1.1 billion), and invested it in PPNs, LIBOR notes, and other short-term notes over a period of two years. In fact, however, courts have understood the \\u201cbusiness activity\\u201d reference in Moline to exclude activity whose sole purpose is tax avoidance. This reading treats \\u201csham entity\\u201d cases the same way the law treats \\u201csham transaction\\u201d cases, in which the existence of formal business activity is a given but the inquiry turns on the existence of a nontax business motive. See Knetsch v. United States, 364 U.S. 361, 364\\u201366, 81 S.Ct. 132, 5 L.Ed.2d 128 (1960). Thus, what the petitioner alleges to be a two-pronged inquiry is in fact a unitary test\\u2014whether the \\u201csham\\u201d be in the entity or the transaction\\u2014under which the absence of a nontax business purpose is fatal. [Fn. ref. omitted.]\\nThus, if Saba and Otrabanda are to be recognized as valid entities for Federal tax purposes, petitioner must show that the partnerships engaged in business activity for a purpose other than tax avoidance. Boca Investerings Pship. v. United States, 314 F.3d 625 (D.C.Cir.2003); Del Commercial Properties, Inc. v. Commissioner, 251 F.3d 210, 214 (D.C.Cir.2001).\\n\\u00a0\\nPetitioner argues that Saba and Otrabanda must be respected for Federal income tax purposes because they engaged in the \\u201cminimal\\u201d amount of business activity required to satisfy the standards for recognition under Moline Properties v. Commissioner, supra. Petitioner cites the partnerships\\u2019 investments in commercial paper (and the profits derived therefrom) as proof that the partnerships were operated for a nontax business purpose. In connection with this point, petitioner avers that, unlike ASA Investerings Pship. v. Commissioner, supra, the partners shared in the profits derived from the commercial paper.\\n\\u00a0\\n*11 Petitioner also argues that the Court in its original Memorandum Opinion \\u201cmade a legal error in determining that Brunswick did not have a business purpose for forming Saba and Otrabanda\\u201d and the Court \\u201cerred in substituting its own judgment for that of Mr. Reichert [Brunswick\\u2019s chairman, president, and chief executive officer] in determining whether Brunswick was susceptible to a takeover and whether the partnerships would be helpful in preventing a takeover.\\u201d\\n\\u00a0\\nRespondent counters that\\nThere is not a shred of documentary evidence corroborating Petitioner\\u2019s purported nontax goals and no economic analysis supports them. Brunswick never viewed the partnerships as takeover defenses; instead of advertising their alleged deterrent effect to hostile acquirers, it eliminated the partnerships from its financial statements and showed them as cash. The LIBOR notes were useful to Brunswick only as a repository of paper tax losses; it consistently hedged its interest in the notes and sold them immediately after receiving them to avoid tax. Given the transactions\\u2019 monumental costs, Brunswick could not expect to generate any profit and the transactions generated only unnecessary costs. But petitioner never considered any of the transactions\\u2019 economics because it was buying $200 million in phantom tax losses.\\n\\u00a0\\nWe considered and rejected petitioner\\u2019s arguments that Saba and Otrabanda engaged in the disputed CINS transactions to achieve nontax business purposes in Saba I. Much of what we said there is equally applicable in response to petitioner\\u2019s contentions that the partnerships were organized and operated to achieve nontax business purposes. Saba I, slip op. at 112\\u2013117, 78 T.C.M. (CCH) 684, 718\\u2013719, 1999 T.C.M. (RIA) 99,359, 2272\\u20132274.\\n\\u00a0\\nFor the same reasons that we recited in Saba I, we reject petitioner\\u2019s contentions that the partnerships were organized and operated to achieve nontax business purposes. Contrary to petitioner\\u2019s position, we have not substituted our own judgment for that of Brunswick\\u2019s corporate officers. We have simply rejected their testimony as being both self-serving and unsupported by the record as a whole. We likewise are not persuaded that the partnerships\\u2019 relatively modest profits from their short-term investments, including commercial paper, demonstrate that the partnerships were operated for a nontax business purpose. To borrow again from the Court of Appeals\\u2019 analysis in ASA Investerings Pship. v. Commissioner, 201 F.3d at 516, we observe that the partnerships could have realized profits from any number of investment strategies at far lower transaction costs than were incurred implementing Merrill Lynch\\u2019s tax shelter. Further, even under the most generous assumptions, any expected profits from the partnerships\\u2019 investments paled in comparison to the approximately $170 million of capital losses that the partnerships were designed to generate for Brunswick. Saba I, slip op. at 126\\u2013127. The minimal business activity that petitioner cites does not amount to a nontax business purpose for the partnerships.\\n\\u00a0\\n\\n\\nConclusion\\n*12 We hold that there is no meaningful distinction between the partnerships in these cases and the partnership determined to be a sham in ASA Investerings Pship. v. Commissioner, supra. We further hold that Saba and Otrabanda were not organized or operated for a nontax business purpose under the rationale of Moline Properties v. Commissioner, supra.\\n\\u00a0\\nTo reflect the foregoing,\\nDecisions will be entered under Rule 155.\\n\\u00a0\\nAll Citations\\nT.C. Memo. 2003-31, 2003 WL 289605, 85 T.C.M. (CCH) 817, T.C.M. (RIA) 2003-031, 2003 RIA TC Memo 2003-031\\n\\n\\n\\nFootnotes\\n|\\n*\\n|This opinion supplements our previously filed Memorandum Opinion in Saba Pship. v. Commissioner, T.C. Memo.1999\\u2013359, vacated and remanded 273 F.3d 1135 (D.C.Cir.2001).\\n|\\n\\n\\n\\n\\n\\n\\n\\nEnd of Document\\n|\\u00a9 2025 Thomson Reuters. No claim to original U.S. Government Works.\\n|\\n\\n\\n\\n\\n\\n\\n\",\n",
      "    \"Discussion\": \"\"\n",
      "}\n"
     ]
    }
   ],
   "source": [
    "def process_file(file_path):\n",
    "    \"\"\"\n",
    "    Function to process a file.\n",
    "    Replace this docstring with your actual processing code.\n",
    "    \"\"\"\n",
    "    if not file_path.exists():\n",
    "        print(\"File not found:\", rtf_file_path.resolve())\n",
    "    else:\n",
    "        with file_path.open('r') as file:\n",
    "            rtf_content = file.read()\n",
    "\n",
    "        plain_text = rtf_to_text(rtf_content)\n",
    "        # Perform your processing here\n",
    "        print(f\"Processed {file_path}\")\n",
    "        return plain_text\n",
    "\n",
    "# Define the directory containing the files\n",
    "directory = Path('corporate_tax_cases')\n",
    "\n",
    "# Iterate over all .txt files in the directory\n",
    "for file_path in directory.glob('*.rtf'):\n",
    "    plain_text = process_file(file_path)\n",
    "    result = split_text(plain_text)\n",
    "    with open(f\"corporate_tax_cases_json/{os.path.basename(file_path)}.json\", \"w\", encoding=\"utf-8\") as json_file:\n",
    "        json.dump(result, json_file, ensure_ascii=False, indent=4)\n",
    "\n",
    "print(\"Document has been split and saved into output.json\")\n",
    "print(json.dumps(result, indent=4))"
   ]
  },
  {
   "metadata": {
    "ExecuteTime": {
     "end_time": "2025-06-08T01:39:31.697958Z",
     "start_time": "2025-06-08T01:39:31.692357Z"
    }
   },
   "cell_type": "code",
   "source": [
    "import span_iaa_ned as iaa\n",
    "\n",
    "iaa.ned('kitten','sitting')"
   ],
   "outputs": [
    {
     "data": {
      "text/plain": [
       "1.6666666666666667"
      ]
     },
     "execution_count": 3,
     "metadata": {},
     "output_type": "execute_result"
    }
   ],
   "execution_count": 3
  },
  {
   "cell_type": "code",
   "metadata": {
    "collapsed": false,
    "ExecuteTime": {
     "end_time": "2025-06-08T01:51:48.540810Z",
     "start_time": "2025-06-08T01:51:48.536109Z"
    }
   },
   "source": [
    "ops = [('replace', 0, 0), ('replace', 4, 4), ('insert', 6, 6)]\n",
    "sum(op[0] == 'replace' for op in ops)"
   ],
   "outputs": [
    {
     "data": {
      "text/plain": [
       "2"
      ]
     },
     "execution_count": 4,
     "metadata": {},
     "output_type": "execute_result"
    }
   ],
   "execution_count": 4
  },
  {
   "metadata": {
    "ExecuteTime": {
     "end_time": "2025-06-08T20:45:19.609442Z",
     "start_time": "2025-06-08T20:44:35.238102Z"
    }
   },
   "cell_type": "code",
   "source": [
    "from abydos.distance import Levenshtein, YujianBo, HigueraMico\n",
    "import timeit\n",
    "cmp = Levenshtein()\n",
    "cmp.alignment('cat','hat')\n",
    "cmp1 = YujianBo()\n",
    "round(cmp1.dist('cat','hat'), 12)\n",
    "cmp2 = HigueraMico()\n",
    "print(cmp2.dist('Youre seeing this error because youre passing a float into timeit.timeit, not a callable or code string. Lets break it down','hat'))\n",
    "timeit.timeit(lambda: round(cmp.dist('Youre seeing this error because youre passing a float into timeit.timeit, not a callable or code string. Lets break it down','hat'),12), number=100000)\n"
   ],
   "outputs": [
    {
     "name": "stdout",
     "output_type": "stream",
     "text": [
      "1.0\n"
     ]
    },
    {
     "data": {
      "text/plain": [
       "44.33670217299368"
      ]
     },
     "execution_count": 16,
     "metadata": {},
     "output_type": "execute_result"
    }
   ],
   "execution_count": 16
  },
  {
   "metadata": {
    "ExecuteTime": {
     "end_time": "2025-06-10T01:09:30.431713Z",
     "start_time": "2025-06-10T01:09:30.158003Z"
    }
   },
   "cell_type": "code",
   "source": [
    "import numpy as np\n",
    "cost = np.array([[4,1,3],[2,0,5],[3,2,2]])\n",
    "from scipy.optimize import linear_sum_assignment\n",
    "row_ind, col_ind = linear_sum_assignment(cost)\n",
    "print(row_ind, col_ind)\n",
    "cost[row_ind, col_ind].sum()"
   ],
   "outputs": [
    {
     "name": "stdout",
     "output_type": "stream",
     "text": [
      "[0 1 2] [1 0 2]\n"
     ]
    },
    {
     "data": {
      "text/plain": [
       "np.int64(5)"
      ]
     },
     "execution_count": 18,
     "metadata": {},
     "output_type": "execute_result"
    }
   ],
   "execution_count": 18
  }
 ],
 "metadata": {
  "kernelspec": {
   "argv": [
    "/home/user/.virtualenvs/ai_agents/bin/python",
    "-m",
    "ipykernel_launcher",
    "-f",
    "{connection_file}"
   ],
   "display_name": "ai_agents_env",
   "env": {},
   "language": "python",
   "metadata": {
    "debugger": true
   },
   "name": "ai_agents",
   "resource_dir": "/home/user/.local/share/jupyter/kernels/ai_agents"
  }
 },
 "nbformat": 4,
 "nbformat_minor": 4
}
