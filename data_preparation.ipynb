{
 "cells": [
  {
   "cell_type": "code",
   "execution_count": 2,
   "id": "604c23",
   "metadata": {
    "collapsed": false
   },
   "outputs": [],
   "source": [
    "import json\n",
    "from information_extraction import extract_facts\n",
    "from rtf_manipulation import process_directory\n",
    "import os\n",
    "from pathlib import Path"
   ]
  },
  {
   "cell_type": "code",
   "execution_count": 6,
   "id": "3bc9b7",
   "metadata": {
    "collapsed": false
   },
   "outputs": [
    {
     "name": "stdout",
     "output_type": "stream",
     "text": [
      "Processed State Farm Road Corp v Commissioner of Internal Revenue.rtf\n",
      "Document State Farm Road Corp v Commissioner of Internal Revenue has been saved to corporate_tax_cases_txt/State Farm Road Corp v Commissioner of Internal Revenue.txt\n"
     ]
    },
    {
     "name": "stdout",
     "output_type": "stream",
     "text": [
      "Processed Thompson Engineering Company Inc v Commissioner of Internal Revenue.rtf\n",
      "Document Thompson Engineering Company Inc v Commissioner of Internal Revenue has been saved to corporate_tax_cases_txt/Thompson Engineering Company Inc v Commissioner of Internal Revenue.txt\n",
      "Processed Litton Industries Inc v Commissioner of Internal Revenue.rtf\n",
      "Document Litton Industries Inc v Commissioner of Internal Revenue has been saved to corporate_tax_cases_txt/Litton Industries Inc v Commissioner of Internal Revenue.txt\n"
     ]
    },
    {
     "name": "stdout",
     "output_type": "stream",
     "text": [
      "Processed Meredith Corpand Subsidiaries v CIR.rtf\n",
      "Document Meredith Corpand Subsidiaries v CIR has been saved to corporate_tax_cases_txt/Meredith Corpand Subsidiaries v CIR.txt\n"
     ]
    },
    {
     "name": "stdout",
     "output_type": "stream",
     "text": [
      "Processed Santa Monica Pictures LLC v CIR.rtf\n",
      "Document Santa Monica Pictures LLC v CIR has been saved to corporate_tax_cases_txt/Santa Monica Pictures LLC v CIR.txt\n",
      "Processed Jelle v CIR.rtf\n",
      "Document Jelle v CIR has been saved to corporate_tax_cases_txt/Jelle v CIR.txt\n",
      "Processed FX Systems Corp v Commissioner of Internal Revenue.rtf\n",
      "Document FX Systems Corp v Commissioner of Internal Revenue has been saved to corporate_tax_cases_txt/FX Systems Corp v Commissioner of Internal Revenue.txt\n"
     ]
    },
    {
     "name": "stdout",
     "output_type": "stream",
     "text": [
      "Processed The Coca-Cola Company And Subsidiaries v Commissioner of Internal Revenue.rtf\n",
      "Document The Coca-Cola Company And Subsidiaries v Commissioner of Internal Revenue has been saved to corporate_tax_cases_txt/The Coca-Cola Company And Subsidiaries v Commissioner of Internal Revenue.txt\n",
      "Processed Ralphs Grocery Co v CIR.rtf\n",
      "Document Ralphs Grocery Co v CIR has been saved to corporate_tax_cases_txt/Ralphs Grocery Co v CIR.txt\n"
     ]
    },
    {
     "name": "stdout",
     "output_type": "stream",
     "text": [
      "Processed South Tulsa Pathology Laboratory Inc v CIR.rtf\n",
      "Document South Tulsa Pathology Laboratory Inc v CIR has been saved to corporate_tax_cases_txt/South Tulsa Pathology Laboratory Inc v CIR.txt\n",
      "Processed Charles Schwab Corp and Subsidiaries v CIR.rtf\n",
      "Document Charles Schwab Corp and Subsidiaries v CIR has been saved to corporate_tax_cases_txt/Charles Schwab Corp and Subsidiaries v CIR.txt\n",
      "Processed Lockwood v CIR.rtf\n",
      "Document Lockwood v CIR has been saved to corporate_tax_cases_txt/Lockwood v CIR.txt\n"
     ]
    },
    {
     "name": "stdout",
     "output_type": "stream",
     "text": [
      "Processed Gerdau Macsteel Inc v CIR.rtf\n",
      "Document Gerdau Macsteel Inc v CIR has been saved to corporate_tax_cases_txt/Gerdau Macsteel Inc v CIR.txt\n",
      "Processed Kenyatta Corp v CIR.rtf\n",
      "Document Kenyatta Corp v CIR has been saved to corporate_tax_cases_txt/Kenyatta Corp v CIR.txt\n"
     ]
    },
    {
     "name": "stdout",
     "output_type": "stream",
     "text": [
      "Processed PepsiCo Puerto Rico Inc v CIR.rtf\n",
      "Document PepsiCo Puerto Rico Inc v CIR has been saved to corporate_tax_cases_txt/PepsiCo Puerto Rico Inc v CIR.txt\n",
      "Processed Winn-Dixie Stores Inc v CIR.rtf\n",
      "Document Winn-Dixie Stores Inc v CIR has been saved to corporate_tax_cases_txt/Winn-Dixie Stores Inc v CIR.txt\n",
      "Processed Technalysis Corp v CIR.rtf\n",
      "Document Technalysis Corp v CIR has been saved to corporate_tax_cases_txt/Technalysis Corp v CIR.txt\n",
      "Processed Short Stop Electric Inc v Commissioner of Internal Revenue.rtf\n",
      "Document Short Stop Electric Inc v Commissioner of Internal Revenue has been saved to corporate_tax_cases_txt/Short Stop Electric Inc v Commissioner of Internal Revenue.txt\n"
     ]
    },
    {
     "name": "stdout",
     "output_type": "stream",
     "text": [
      "Processed Snow Mfg Co v CIR.rtf\n",
      "Document Snow Mfg Co v CIR has been saved to corporate_tax_cases_txt/Snow Mfg Co v CIR.txt\n",
      "Processed Hillsboro National Bank v Commissioner of Internal Revenue.rtf\n",
      "Document Hillsboro National Bank v Commissioner of Internal Revenue has been saved to corporate_tax_cases_txt/Hillsboro National Bank v Commissioner of Internal Revenue.txt\n",
      "Processed Federal Home Loan Mortg Corp v CIR.rtf\n",
      "Document Federal Home Loan Mortg Corp v CIR has been saved to corporate_tax_cases_txt/Federal Home Loan Mortg Corp v CIR.txt\n"
     ]
    },
    {
     "name": "stdout",
     "output_type": "stream",
     "text": [
      "Processed Charfoos v C I R.rtf\n",
      "Document Charfoos v C I R has been saved to corporate_tax_cases_txt/Charfoos v C I R.txt\n",
      "Processed Thor Energy Resources and Subsidiares v CIR.rtf\n",
      "Document Thor Energy Resources and Subsidiares v CIR has been saved to corporate_tax_cases_txt/Thor Energy Resources and Subsidiares v CIR.txt\n",
      "Processed Deitch v Commissioner of Internal Revenue.rtf\n",
      "Document Deitch v Commissioner of Internal Revenue has been saved to corporate_tax_cases_txt/Deitch v Commissioner of Internal Revenue.txt\n"
     ]
    },
    {
     "name": "stdout",
     "output_type": "stream",
     "text": [
      "Processed Hewlett-Packard Co v CIR.rtf\n",
      "Document Hewlett-Packard Co v CIR has been saved to corporate_tax_cases_txt/Hewlett-Packard Co v CIR.txt\n",
      "Processed Bleily And Collishaw Inc v Commissioner of Internal Revenue.rtf\n",
      "Document Bleily And Collishaw Inc v Commissioner of Internal Revenue has been saved to corporate_tax_cases_txt/Bleily And Collishaw Inc v Commissioner of Internal Revenue.txt\n"
     ]
    },
    {
     "name": "stdout",
     "output_type": "stream",
     "text": [
      "Processed Markell Co Inc v CIR.rtf\n",
      "Document Markell Co Inc v CIR has been saved to corporate_tax_cases_txt/Markell Co Inc v CIR.txt\n",
      "Processed Lessinger v CIR.rtf\n",
      "Document Lessinger v CIR has been saved to corporate_tax_cases_txt/Lessinger v CIR.txt\n"
     ]
    },
    {
     "name": "stdout",
     "output_type": "stream",
     "text": [
      "Processed Menard Inc v CIR.rtf\n",
      "Document Menard Inc v CIR has been saved to corporate_tax_cases_txt/Menard Inc v CIR.txt\n",
      "Processed JE Seagram Corp v CIR.rtf\n",
      "Document JE Seagram Corp v CIR has been saved to corporate_tax_cases_txt/JE Seagram Corp v CIR.txt\n"
     ]
    },
    {
     "name": "stdout",
     "output_type": "stream",
     "text": [
      "Processed DHL Corp And Subsidiaries v CIR.rtf\n",
      "Document DHL Corp And Subsidiaries v CIR has been saved to corporate_tax_cases_txt/DHL Corp And Subsidiaries v CIR.txt\n",
      "Processed Garber Industries Holding Co Inc v CIR.rtf\n",
      "Document Garber Industries Holding Co Inc v CIR has been saved to corporate_tax_cases_txt/Garber Industries Holding Co Inc v CIR.txt\n",
      "Processed Donlon I Development Corp v CIR.rtf\n",
      "Document Donlon I Development Corp v CIR has been saved to corporate_tax_cases_txt/Donlon I Development Corp v CIR.txt\n",
      "Processed Compaq Computer Corp and Subsidiaries v CIR.rtf\n",
      "Document Compaq Computer Corp and Subsidiaries v CIR has been saved to corporate_tax_cases_txt/Compaq Computer Corp and Subsidiaries v CIR.txt\n"
     ]
    },
    {
     "name": "stdout",
     "output_type": "stream",
     "text": [
      "Processed Blum v CIR.rtf\n",
      "Document Blum v CIR has been saved to corporate_tax_cases_txt/Blum v CIR.txt\n",
      "Processed Saba Partnership v CIR.rtf\n",
      "Document Saba Partnership v CIR has been saved to corporate_tax_cases_txt/Saba Partnership v CIR.txt\n"
     ]
    }
   ],
   "source": [
    "input_directory = 'corporate_tax_cases'\n",
    "output_directory = 'corporate_tax_cases_txt'\n",
    "\n",
    "process_directory(input_directory, output_directory)"
   ]
  },
  {
   "cell_type": "code",
   "execution_count": 3,
   "id": "133ef0",
   "metadata": {
    "collapsed": false
   },
   "outputs": [
    {
     "ename": "NameError",
     "evalue": "name 'Path' is not defined",
     "output_type": "error",
     "traceback": [
      "\u001b[0;31m---------------------------------------------------------------------------\u001b[0m",
      "\u001b[0;31mNameError\u001b[0m                                 Traceback (most recent call last)",
      "Cell \u001b[0;32mIn[3], line 1\u001b[0m\n\u001b[0;32m----> 1\u001b[0m input_directory \u001b[38;5;241m=\u001b[39m \u001b[43mPath\u001b[49m(\u001b[38;5;124m'\u001b[39m\u001b[38;5;124mcorporate_tax_cases\u001b[39m\u001b[38;5;124m'\u001b[39m)\n\u001b[1;32m      2\u001b[0m output_directory \u001b[38;5;241m=\u001b[39m Path(\u001b[38;5;124m'\u001b[39m\u001b[38;5;124mcorporate_tax_cases_txt\u001b[39m\u001b[38;5;124m'\u001b[39m)\n\u001b[1;32m      4\u001b[0m \u001b[38;5;28;01mfor\u001b[39;00m file_path \u001b[38;5;129;01min\u001b[39;00m input_directory\u001b[38;5;241m.\u001b[39mglob(\u001b[38;5;124m'\u001b[39m\u001b[38;5;124m*.txt\u001b[39m\u001b[38;5;124m'\u001b[39m):\n",
      "\u001b[0;31mNameError\u001b[0m: name 'Path' is not defined"
     ]
    }
   ],
   "source": [
    "input_directory = Path('corporate_tax_cases')\n",
    "output_directory = Path('corporate_tax_cases_txt')\n",
    "\n",
    "for file_path in input_directory.glob('*.txt'):\n",
    "\n",
    "    with open(file_path, \"r\", encoding=\"utf-8\") as file_in:\n",
    "        text = file_in.read()\n",
    "    print(f'Processing file {file_path.stem}')\n",
    "    facts, successful_task = extract_facts(text)\n",
    "    \n",
    "    if successful_task:\n",
    "        output_file_path = output_directory / f\"{file_path.stem}.txt\"\n",
    "        with open(output_file_path, \"w\", encoding=\"utf-8\") as file_out:\n",
    "            file_out.write(facts)"
   ]
  },
  {
   "cell_type": "code",
   "execution_count": 0,
   "id": "58ce9d",
   "metadata": {
    "collapsed": false
   },
   "outputs": [],
   "source": []
  }
 ],
 "metadata": {
  "kernelspec": {
   "display_name": "ai_agents",
   "language": "python",
   "name": "python3"
  },
  "language_info": {
   "codemirror_mode": {
    "name": "ipython",
    "version": 3
   },
   "file_extension": ".py",
   "mimetype": "text/x-python",
   "name": "python",
   "nbconvert_exporter": "python",
   "pygments_lexer": "ipython3",
   "version": "3.10.12"
  }
 },
 "nbformat": 4,
 "nbformat_minor": 4
}
