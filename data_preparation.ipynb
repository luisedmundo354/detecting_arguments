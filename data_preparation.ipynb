{
 "cells": [
  {
   "cell_type": "code",
   "execution_count": 3,
   "id": "604c23",
   "metadata": {
    "collapsed": false
   },
   "outputs": [
   ],
   "source": [
    "import fitz\n",
    "import json\n",
    "from information_extraction import extract_facts\n",
    "import os\n",
    "from pathlib import Path"
   ]
  },
  {
   "cell_type": "code",
   "execution_count": 4,
   "id": "133ef0",
   "metadata": {
    "collapsed": false
   },
   "outputs": [
    {
     "name": "stdout",
     "output_type": "stream",
     "text": [
      "Processing file 155_tc_145\n",
      "Processing file tcmemo_1994_195\n",
      "Processing file tcmemo_2016_112\n",
      "Processing file 147_tc_3\n",
      "End delimiter (Discussion/Opinion) was not found.\n",
      "Processing file 146_tc_5\n",
      "Processing file 96_tc_25\n",
      "Processing file 77_tc_152\n",
      "Start delimiter (Background/Findings of Fact) was not found.\n",
      "Processing file 97_tc_33\n",
      "Start delimiter (Background/Findings of Fact) was not found.\n",
      "Processing file 141_tc_5\n",
      "Start delimiter (Background/Findings of Fact) was not found.\n",
      "Processing file tcmemo_2024-38\n",
      "Start delimiter (Background/Findings of Fact) was not found.\n",
      "Processing file 150_tc_7\n",
      "Processing file 106_tc_257\n",
      "Start delimiter (Background/Findings of Fact) was not found.\n",
      "Processing file tcmemo_1996_57\n",
      "Start delimiter (Background/Findings of Fact) was not found.\n",
      "Processing file 133_tc_14\n",
      "Processing file tcmemo_2019_144\n",
      "Processing file 84_tc_65\n",
      "Processing file tcmemo_1998_54\n",
      "Processing file 140_tc_410\n",
      "Processing file 134_tc_5\n",
      "Processing file 145_tc_3\n",
      "Processing file 154_tc_142\n",
      "Processing file 148_tc_8\n",
      "Processing file 96_tc_12\n",
      "Processing file 110_tc_28\n",
      "Processing file 158_tc_1\n",
      "Processing file 147_tc_15\n"
     ]
    }
   ],
   "source": [
    "input_directory = Path('precedents')\n",
    "output_directory = Path('precedents_facts')\n",
    "\n",
    "for file_path in input_directory.glob('*.txt'):\n",
    "\n",
    "    with open(file_path, \"r\", encoding=\"utf-8\") as file_in:\n",
    "        text = file_in.read()\n",
    "    print(f'Processing file {file_path.stem}')\n",
    "    facts, successful_task = extract_facts(text)\n",
    "    \n",
    "    if successful_task:\n",
    "        output_file_path = output_directory / f\"{file_path.stem}.txt\"\n",
    "        with open(output_file_path, \"w\", encoding=\"utf-8\") as file_out:\n",
    "            file_out.write(facts)"
   ]
  },
  {
   "cell_type": "code",
   "execution_count": 0,
   "id": "58ce9d",
   "metadata": {
    "collapsed": false
   },
   "outputs": [
   ],
   "source": [
   ]
  }
 ],
 "metadata": {
  "kernelspec": {
   "argv": [
    "/home/user/.virtualenvs/ai_agents/bin/python",
    "-m",
    "ipykernel_launcher",
    "-f",
    "{connection_file}"
   ],
   "display_name": "ai_agents_env",
   "env": {
   },
   "language": "python",
   "metadata": {
    "debugger": true
   },
   "name": "ai_agents",
   "resource_dir": "/home/user/.local/share/jupyter/kernels/ai_agents"
  }
 },
 "nbformat": 4,
 "nbformat_minor": 4
}