{
 "cells": [
  {
   "cell_type": "code",
   "execution_count": 2,
   "metadata": {
    "collapsed": false
   },
   "outputs": [],
   "source": [
    "import json\n",
    "from information_extraction import extract_facts\n",
    "from rtf_manipulation import process_directory\n",
    "import os\n",
    "from pathlib import Path"
   ]
  },
  {
   "cell_type": "code",
   "execution_count": 6,
   "metadata": {
    "collapsed": false
   },
   "outputs": [
    {
     "name": "stdout",
     "output_type": "stream",
     "text": [
      "Processed State Farm Road Corp v Commissioner of Internal Revenue.rtf\n",
      "Document State Farm Road Corp v Commissioner of Internal Revenue has been saved to corporate_tax_cases_txt/State Farm Road Corp v Commissioner of Internal Revenue.txt\n"
     ]
    },
    {
     "name": "stdout",
     "output_type": "stream",
     "text": [
      "Processed Thompson Engineering Company Inc v Commissioner of Internal Revenue.rtf\n",
      "Document Thompson Engineering Company Inc v Commissioner of Internal Revenue has been saved to corporate_tax_cases_txt/Thompson Engineering Company Inc v Commissioner of Internal Revenue.txt\n",
      "Processed Litton Industries Inc v Commissioner of Internal Revenue.rtf\n",
      "Document Litton Industries Inc v Commissioner of Internal Revenue has been saved to corporate_tax_cases_txt/Litton Industries Inc v Commissioner of Internal Revenue.txt\n"
     ]
    },
    {
     "name": "stdout",
     "output_type": "stream",
     "text": [
      "Processed Meredith Corpand Subsidiaries v CIR.rtf\n",
      "Document Meredith Corpand Subsidiaries v CIR has been saved to corporate_tax_cases_txt/Meredith Corpand Subsidiaries v CIR.txt\n"
     ]
    },
    {
     "name": "stdout",
     "output_type": "stream",
     "text": [
      "Processed Santa Monica Pictures LLC v CIR.rtf\n",
      "Document Santa Monica Pictures LLC v CIR has been saved to corporate_tax_cases_txt/Santa Monica Pictures LLC v CIR.txt\n",
      "Processed Jelle v CIR.rtf\n",
      "Document Jelle v CIR has been saved to corporate_tax_cases_txt/Jelle v CIR.txt\n",
      "Processed FX Systems Corp v Commissioner of Internal Revenue.rtf\n",
      "Document FX Systems Corp v Commissioner of Internal Revenue has been saved to corporate_tax_cases_txt/FX Systems Corp v Commissioner of Internal Revenue.txt\n"
     ]
    },
    {
     "name": "stdout",
     "output_type": "stream",
     "text": [
      "Processed The Coca-Cola Company And Subsidiaries v Commissioner of Internal Revenue.rtf\n",
      "Document The Coca-Cola Company And Subsidiaries v Commissioner of Internal Revenue has been saved to corporate_tax_cases_txt/The Coca-Cola Company And Subsidiaries v Commissioner of Internal Revenue.txt\n",
      "Processed Ralphs Grocery Co v CIR.rtf\n",
      "Document Ralphs Grocery Co v CIR has been saved to corporate_tax_cases_txt/Ralphs Grocery Co v CIR.txt\n"
     ]
    },
    {
     "name": "stdout",
     "output_type": "stream",
     "text": [
      "Processed South Tulsa Pathology Laboratory Inc v CIR.rtf\n",
      "Document South Tulsa Pathology Laboratory Inc v CIR has been saved to corporate_tax_cases_txt/South Tulsa Pathology Laboratory Inc v CIR.txt\n",
      "Processed Charles Schwab Corp and Subsidiaries v CIR.rtf\n",
      "Document Charles Schwab Corp and Subsidiaries v CIR has been saved to corporate_tax_cases_txt/Charles Schwab Corp and Subsidiaries v CIR.txt\n",
      "Processed Lockwood v CIR.rtf\n",
      "Document Lockwood v CIR has been saved to corporate_tax_cases_txt/Lockwood v CIR.txt\n"
     ]
    },
    {
     "name": "stdout",
     "output_type": "stream",
     "text": [
      "Processed Gerdau Macsteel Inc v CIR.rtf\n",
      "Document Gerdau Macsteel Inc v CIR has been saved to corporate_tax_cases_txt/Gerdau Macsteel Inc v CIR.txt\n",
      "Processed Kenyatta Corp v CIR.rtf\n",
      "Document Kenyatta Corp v CIR has been saved to corporate_tax_cases_txt/Kenyatta Corp v CIR.txt\n"
     ]
    },
    {
     "name": "stdout",
     "output_type": "stream",
     "text": [
      "Processed PepsiCo Puerto Rico Inc v CIR.rtf\n",
      "Document PepsiCo Puerto Rico Inc v CIR has been saved to corporate_tax_cases_txt/PepsiCo Puerto Rico Inc v CIR.txt\n",
      "Processed Winn-Dixie Stores Inc v CIR.rtf\n",
      "Document Winn-Dixie Stores Inc v CIR has been saved to corporate_tax_cases_txt/Winn-Dixie Stores Inc v CIR.txt\n",
      "Processed Technalysis Corp v CIR.rtf\n",
      "Document Technalysis Corp v CIR has been saved to corporate_tax_cases_txt/Technalysis Corp v CIR.txt\n",
      "Processed Short Stop Electric Inc v Commissioner of Internal Revenue.rtf\n",
      "Document Short Stop Electric Inc v Commissioner of Internal Revenue has been saved to corporate_tax_cases_txt/Short Stop Electric Inc v Commissioner of Internal Revenue.txt\n"
     ]
    },
    {
     "name": "stdout",
     "output_type": "stream",
     "text": [
      "Processed Snow Mfg Co v CIR.rtf\n",
      "Document Snow Mfg Co v CIR has been saved to corporate_tax_cases_txt/Snow Mfg Co v CIR.txt\n",
      "Processed Hillsboro National Bank v Commissioner of Internal Revenue.rtf\n",
      "Document Hillsboro National Bank v Commissioner of Internal Revenue has been saved to corporate_tax_cases_txt/Hillsboro National Bank v Commissioner of Internal Revenue.txt\n",
      "Processed Federal Home Loan Mortg Corp v CIR.rtf\n",
      "Document Federal Home Loan Mortg Corp v CIR has been saved to corporate_tax_cases_txt/Federal Home Loan Mortg Corp v CIR.txt\n"
     ]
    },
    {
     "name": "stdout",
     "output_type": "stream",
     "text": [
      "Processed Charfoos v C I R.rtf\n",
      "Document Charfoos v C I R has been saved to corporate_tax_cases_txt/Charfoos v C I R.txt\n",
      "Processed Thor Energy Resources and Subsidiares v CIR.rtf\n",
      "Document Thor Energy Resources and Subsidiares v CIR has been saved to corporate_tax_cases_txt/Thor Energy Resources and Subsidiares v CIR.txt\n",
      "Processed Deitch v Commissioner of Internal Revenue.rtf\n",
      "Document Deitch v Commissioner of Internal Revenue has been saved to corporate_tax_cases_txt/Deitch v Commissioner of Internal Revenue.txt\n"
     ]
    },
    {
     "name": "stdout",
     "output_type": "stream",
     "text": [
      "Processed Hewlett-Packard Co v CIR.rtf\n",
      "Document Hewlett-Packard Co v CIR has been saved to corporate_tax_cases_txt/Hewlett-Packard Co v CIR.txt\n",
      "Processed Bleily And Collishaw Inc v Commissioner of Internal Revenue.rtf\n",
      "Document Bleily And Collishaw Inc v Commissioner of Internal Revenue has been saved to corporate_tax_cases_txt/Bleily And Collishaw Inc v Commissioner of Internal Revenue.txt\n"
     ]
    },
    {
     "name": "stdout",
     "output_type": "stream",
     "text": [
      "Processed Markell Co Inc v CIR.rtf\n",
      "Document Markell Co Inc v CIR has been saved to corporate_tax_cases_txt/Markell Co Inc v CIR.txt\n",
      "Processed Lessinger v CIR.rtf\n",
      "Document Lessinger v CIR has been saved to corporate_tax_cases_txt/Lessinger v CIR.txt\n"
     ]
    },
    {
     "name": "stdout",
     "output_type": "stream",
     "text": [
      "Processed Menard Inc v CIR.rtf\n",
      "Document Menard Inc v CIR has been saved to corporate_tax_cases_txt/Menard Inc v CIR.txt\n",
      "Processed JE Seagram Corp v CIR.rtf\n",
      "Document JE Seagram Corp v CIR has been saved to corporate_tax_cases_txt/JE Seagram Corp v CIR.txt\n"
     ]
    },
    {
     "name": "stdout",
     "output_type": "stream",
     "text": [
      "Processed DHL Corp And Subsidiaries v CIR.rtf\n",
      "Document DHL Corp And Subsidiaries v CIR has been saved to corporate_tax_cases_txt/DHL Corp And Subsidiaries v CIR.txt\n",
      "Processed Garber Industries Holding Co Inc v CIR.rtf\n",
      "Document Garber Industries Holding Co Inc v CIR has been saved to corporate_tax_cases_txt/Garber Industries Holding Co Inc v CIR.txt\n",
      "Processed Donlon I Development Corp v CIR.rtf\n",
      "Document Donlon I Development Corp v CIR has been saved to corporate_tax_cases_txt/Donlon I Development Corp v CIR.txt\n",
      "Processed Compaq Computer Corp and Subsidiaries v CIR.rtf\n",
      "Document Compaq Computer Corp and Subsidiaries v CIR has been saved to corporate_tax_cases_txt/Compaq Computer Corp and Subsidiaries v CIR.txt\n"
     ]
    },
    {
     "name": "stdout",
     "output_type": "stream",
     "text": [
      "Processed Blum v CIR.rtf\n",
      "Document Blum v CIR has been saved to corporate_tax_cases_txt/Blum v CIR.txt\n",
      "Processed Saba Partnership v CIR.rtf\n",
      "Document Saba Partnership v CIR has been saved to corporate_tax_cases_txt/Saba Partnership v CIR.txt\n"
     ]
    }
   ],
   "source": [
    "input_directory = 'corporate_tax_cases'\n",
    "output_directory = 'corporate_tax_cases_txt'\n",
    "\n",
    "process_directory(input_directory, output_directory)"
   ]
  },
  {
   "cell_type": "code",
   "execution_count": 3,
   "metadata": {
    "collapsed": false
   },
   "outputs": [
    {
     "ename": "NameError",
     "evalue": "name 'Path' is not defined",
     "output_type": "error",
     "traceback": [
      "\u001B[0;31m---------------------------------------------------------------------------\u001B[0m",
      "\u001B[0;31mNameError\u001B[0m                                 Traceback (most recent call last)",
      "Cell \u001B[0;32mIn[3], line 1\u001B[0m\n\u001B[0;32m----> 1\u001B[0m input_directory \u001B[38;5;241m=\u001B[39m \u001B[43mPath\u001B[49m(\u001B[38;5;124m'\u001B[39m\u001B[38;5;124mcorporate_tax_cases\u001B[39m\u001B[38;5;124m'\u001B[39m)\n\u001B[1;32m      2\u001B[0m output_directory \u001B[38;5;241m=\u001B[39m Path(\u001B[38;5;124m'\u001B[39m\u001B[38;5;124mcorporate_tax_cases_txt\u001B[39m\u001B[38;5;124m'\u001B[39m)\n\u001B[1;32m      4\u001B[0m \u001B[38;5;28;01mfor\u001B[39;00m file_path \u001B[38;5;129;01min\u001B[39;00m input_directory\u001B[38;5;241m.\u001B[39mglob(\u001B[38;5;124m'\u001B[39m\u001B[38;5;124m*.txt\u001B[39m\u001B[38;5;124m'\u001B[39m):\n",
      "\u001B[0;31mNameError\u001B[0m: name 'Path' is not defined"
     ]
    }
   ],
   "source": [
    "input_directory = Path('corporate_tax_cases')\n",
    "output_directory = Path('corporate_tax_cases_txt')\n",
    "\n",
    "for file_path in input_directory.glob('*.txt'):\n",
    "\n",
    "    with open(file_path, \"r\", encoding=\"utf-8\") as file_in:\n",
    "        text = file_in.read()\n",
    "    print(f'Processing file {file_path.stem}')\n",
    "    facts, successful_task = extract_facts(text)\n",
    "    \n",
    "    if successful_task:\n",
    "        output_file_path = output_directory / f\"{file_path.stem}.txt\"\n",
    "        with open(output_file_path, \"w\", encoding=\"utf-8\") as file_out:\n",
    "            file_out.write(facts)"
   ]
  },
  {
   "cell_type": "code",
   "execution_count": 4,
   "metadata": {
    "collapsed": false,
    "scrolled": true
   },
   "outputs": [
    {
     "name": "stdout",
     "output_type": "stream",
     "text": [
      "Document saved to: label_studio_tasks/FX Systems Corp v Commissioner of Internal Revenue.json\n",
      "Document saved to: label_studio_tasks/DHL Corp And Subsidiaries v CIR.json\n",
      "Document saved to: label_studio_tasks/Hewlett-Packard Co v CIR.json\n"
     ]
    }
   ],
   "source": [
    "from label_studio_format import text_to_ls_format\n",
    "from pathlib import Path\n",
    "\n",
    "legal_cases = [\n",
    "    \"FX Systems Corp v Commissioner of Internal Revenue.txt\",\n",
    "    \"DHL Corp And Subsidiaries v CIR.txt\",\n",
    "    \"Hewlett-Packard Co v CIR.txt\"\n",
    "]\n",
    "\n",
    "input_folder  = Path(\"corporate_tax_cases_txt\")\n",
    "output_folder = Path(\"label_studio_tasks\")\n",
    "\n",
    "for i, filename in enumerate(legal_cases):\n",
    "    text_to_ls_format(\n",
    "        text_file_path= input_folder  / filename,\n",
    "        output_folder= output_folder,\n",
    "        ref_id=        i\n",
    "    )\n"
   ]
  },
  {
   "cell_type": "code",
   "metadata": {
    "collapsed": false,
    "ExecuteTime": {
     "end_time": "2025-09-05T20:58:07.541728Z",
     "start_time": "2025-09-05T20:58:07.527685Z"
    }
   },
   "source": [
    "import os\n",
    "import json\n",
    "from pathlib import Path\n",
    "\n",
    "def rename_json_files(folder: str):\n",
    "    folder_path = Path(folder)\n",
    "    for json_path in folder_path.glob('*.json'):\n",
    "        try:\n",
    "            data = json.loads(json_path.read_text(encoding='utf-8'))\n",
    "        except (json.JSONDecodeError, UnicodeDecodeError) as e:\n",
    "            print(f\"Skipping {json_path}: failed to read/parse JSON ({e})\")\n",
    "            continue\n",
    "\n",
    "        # Navigate to the ID under task > id\n",
    "        new_id = None\n",
    "        if isinstance(data, dict):\n",
    "            task = data.get('task')\n",
    "            if isinstance(task, dict):\n",
    "                new_id = task.get('id')\n",
    "\n",
    "        if not new_id:\n",
    "            print(f\"Skipping {json_path}: 'task.id' not found or empty\")\n",
    "            continue\n",
    "\n",
    "        new_filename = f\"{new_id}.json\"\n",
    "        new_path = json_path.with_name(new_filename)\n",
    "\n",
    "        if new_path.exists():\n",
    "            print(f\"Cannot rename {json_path}: {new_path} already exists\")\n",
    "            continue\n",
    "\n",
    "        try:\n",
    "            os.rename(json_path, new_path)\n",
    "            print(f\"Renamed {json_path.name} → {new_filename}\")\n",
    "        except OSError as e:\n",
    "            print(f\"Error renaming {json_path.name} to {new_filename}: {e}\")\n",
    "\n",
    "if __name__ == \"__main__\":\n",
    "    import sys\n",
    "\n",
    "    folder = 'annotations'\n",
    "    rename_json_files(folder)\n"
   ],
   "outputs": [
    {
     "name": "stdout",
     "output_type": "stream",
     "text": [
      "Cannot rename annotations/5.json: annotations/10.json already exists\n",
      "Renamed 31.json → 139.json\n",
      "Renamed 22.json → 156.json\n",
      "Renamed 57.json → 248.json\n",
      "Cannot rename annotations/1.json: annotations/2.json already exists\n",
      "Renamed 47.json → 276.json\n",
      "Renamed 14.json → 158.json\n",
      "Renamed 55.json → 270.json\n",
      "Renamed 40.json → 251.json\n",
      "Renamed 38.json → 230.json\n",
      "Cannot rename annotations/9.json: annotations/28.json already exists\n",
      "Renamed 63.json → 274.json\n",
      "Cannot rename annotations/25.json: annotations/158.json already exists\n",
      "Renamed 69.json → 236.json\n",
      "Cannot rename annotations/19.json: annotations/156.json already exists\n",
      "Renamed 41.json → 245.json\n",
      "Renamed 32.json → 138.json\n",
      "Cannot rename annotations/17.json: annotations/156.json already exists\n",
      "Renamed 44.json → 259.json\n",
      "Renamed 43.json → 256.json\n",
      "Renamed 67.json → 231.json\n",
      "Cannot rename annotations/15.json: annotations/158.json already exists\n",
      "Renamed 60.json → 261.json\n",
      "Cannot rename annotations/33.json: annotations/138.json already exists\n",
      "Cannot rename annotations/2.json: annotations/17.json already exists\n",
      "Cannot rename annotations/23.json: annotations/156.json already exists\n",
      "Renamed 21.json → 157.json\n",
      "Renamed 56.json → 271.json\n",
      "Renamed 71.json → 227.json\n",
      "Renamed 58.json → 243.json\n",
      "Renamed 52.json → 267.json\n",
      "Renamed 30.json → 137.json\n",
      "Renamed 35.json → 244.json\n",
      "Cannot rename annotations/3.json: annotations/16.json already exists\n",
      "Renamed 65.json → 249.json\n",
      "Cannot rename annotations/26.json: annotations/157.json already exists\n",
      "Renamed 59.json → 262.json\n",
      "Cannot rename annotations/7.json: annotations/25.json already exists\n",
      "Renamed 4.json → 14.json\n",
      "Renamed 46.json → 277.json\n",
      "Renamed 51.json → 260.json\n",
      "Renamed 36.json → 247.json\n",
      "Cannot rename annotations/18.json: annotations/156.json already exists\n",
      "Renamed 45.json → 239.json\n",
      "Renamed 48.json → 275.json\n",
      "Cannot rename annotations/8.json: annotations/29.json already exists\n",
      "Cannot rename annotations/16.json: annotations/158.json already exists\n",
      "Renamed 39.json → 258.json\n",
      "Renamed 29.json → 198.json\n",
      "Renamed 61.json → 272.json\n",
      "Renamed 70.json → 232.json\n",
      "Renamed 49.json → 253.json\n",
      "Cannot rename annotations/28.json: annotations/157.json already exists\n",
      "Cannot rename annotations/24.json: annotations/157.json already exists\n",
      "Renamed 53.json → 268.json\n",
      "Renamed 54.json → 269.json\n",
      "Renamed 68.json → 235.json\n",
      "Renamed 37.json → 246.json\n",
      "Renamed 62.json → 273.json\n",
      "Renamed 66.json → 240.json\n",
      "Renamed 50.json → 257.json\n",
      "Cannot rename annotations/11.json: annotations/15.json already exists\n",
      "Cannot rename annotations/12.json: annotations/158.json already exists\n",
      "Renamed 42.json → 252.json\n",
      "Renamed 27.json → 159.json\n",
      "Cannot rename annotations/13.json: annotations/9.json already exists\n",
      "Renamed 10.json → 32.json\n",
      "Renamed 64.json → 250.json\n",
      "Renamed 34.json → 278.json\n",
      "Cannot rename annotations/20.json: annotations/157.json already exists\n",
      "Cannot rename annotations/6.json: annotations/11.json already exists\n"
     ]
    }
   ],
   "execution_count": 6
  },
  {
   "metadata": {
    "ExecuteTime": {
     "end_time": "2025-09-05T20:59:59.964576Z",
     "start_time": "2025-09-05T20:59:59.959295Z"
    }
   },
   "cell_type": "code",
   "source": [
    "\n",
    "import os\n",
    "\n",
    "#  Change this to your target folder path\n",
    "folder_path = 'annotations'\n",
    "\n",
    "def add_json_extension(folder: str):\n",
    "    \"\"\"\n",
    "    Append '.json' to each filename in the specified folder if not already present.\n",
    "    \"\"\"\n",
    "    for filename in os.listdir(folder):\n",
    "        old_path = os.path.join(folder, filename)\n",
    "\n",
    "        # Skip directories\n",
    "        if not os.path.isfile(old_path):\n",
    "            continue\n",
    "\n",
    "        # Avoid adding .json if already present\n",
    "        if filename.lower().endswith('.json'):\n",
    "            continue\n",
    "\n",
    "        # Build new filename and rename\n",
    "        new_filename = filename + '.json'\n",
    "        new_path = os.path.join(folder, new_filename)\n",
    "        os.rename(old_path, new_path)\n",
    "        print(f'Renamed: \"{filename}\" → \"{new_filename}\"')\n",
    "\n",
    "if __name__ == '__main__':\n",
    "    add_json_extension(folder_path)\n"
   ],
   "outputs": [
    {
     "name": "stdout",
     "output_type": "stream",
     "text": [
      "Renamed: \"35\" → \"35.json\"\n",
      "Renamed: \"26\" → \"26.json\"\n",
      "Renamed: \"33\" → \"33.json\"\n",
      "Renamed: \"24\" → \"24.json\"\n",
      "Renamed: \"28\" → \"28.json\"\n",
      "Renamed: \"11\" → \"11.json\"\n",
      "Renamed: \"59\" → \"59.json\"\n",
      "Renamed: \"63\" → \"63.json\"\n",
      "Renamed: \"52\" → \"52.json\"\n",
      "Renamed: \"5\" → \"5.json\"\n",
      "Renamed: \"44\" → \"44.json\"\n",
      "Renamed: \"34\" → \"34.json\"\n",
      "Renamed: \"1\" → \"1.json\"\n",
      "Renamed: \"70\" → \"70.json\"\n",
      "Renamed: \"32\" → \"32.json\"\n",
      "Renamed: \"31\" → \"31.json\"\n",
      "Renamed: \"30\" → \"30.json\"\n",
      "Renamed: \"62\" → \"62.json\"\n",
      "Renamed: \"51\" → \"51.json\"\n",
      "Renamed: \"13\" → \"13.json\"\n",
      "Renamed: \"68\" → \"68.json\"\n",
      "Renamed: \"54\" → \"54.json\"\n",
      "Renamed: \"71\" → \"71.json\"\n",
      "Renamed: \"58\" → \"58.json\"\n",
      "Renamed: \"41\" → \"41.json\"\n",
      "Renamed: \"55\" → \"55.json\"\n",
      "Renamed: \"42\" → \"42.json\"\n",
      "Renamed: \"16\" → \"16.json\"\n",
      "Renamed: \"69\" → \"69.json\"\n",
      "Renamed: \"66\" → \"66.json\"\n",
      "Renamed: \"2\" → \"2.json\"\n",
      "Renamed: \"53\" → \"53.json\"\n",
      "Renamed: \"40\" → \"40.json\"\n",
      "Renamed: \"17\" → \"17.json\"\n",
      "Renamed: \"36\" → \"36.json\"\n",
      "Renamed: \"56\" → \"56.json\"\n",
      "Renamed: \"64\" → \"64.json\"\n",
      "Renamed: \"48\" → \"48.json\"\n",
      "Renamed: \"38\" → \"38.json\"\n",
      "Renamed: \"47\" → \"47.json\"\n",
      "Renamed: \"61\" → \"61.json\"\n",
      "Renamed: \"43\" → \"43.json\"\n",
      "Renamed: \"7\" → \"7.json\"\n",
      "Renamed: \"19\" → \"19.json\"\n",
      "Renamed: \"57\" → \"57.json\"\n",
      "Renamed: \"3\" → \"3.json\"\n",
      "Renamed: \"46\" → \"46.json\"\n",
      "Renamed: \"12\" → \"12.json\"\n",
      "Renamed: \"22\" → \"22.json\"\n",
      "Renamed: \"14\" → \"14.json\"\n",
      "Renamed: \"4\" → \"4.json\"\n",
      "Renamed: \"18\" → \"18.json\"\n",
      "Renamed: \"49\" → \"49.json\"\n",
      "Renamed: \"37\" → \"37.json\"\n",
      "Renamed: \"15\" → \"15.json\"\n",
      "Renamed: \"9\" → \"9.json\"\n",
      "Renamed: \"27\" → \"27.json\"\n",
      "Renamed: \"60\" → \"60.json\"\n",
      "Renamed: \"8\" → \"8.json\"\n",
      "Renamed: \"10\" → \"10.json\"\n",
      "Renamed: \"50\" → \"50.json\"\n",
      "Renamed: \"23\" → \"23.json\"\n",
      "Renamed: \"20\" → \"20.json\"\n",
      "Renamed: \"29\" → \"29.json\"\n",
      "Renamed: \"45\" → \"45.json\"\n",
      "Renamed: \"65\" → \"65.json\"\n",
      "Renamed: \"67\" → \"67.json\"\n",
      "Renamed: \"6\" → \"6.json\"\n",
      "Renamed: \"39\" → \"39.json\"\n",
      "Renamed: \"25\" → \"25.json\"\n",
      "Renamed: \"21\" → \"21.json\"\n"
     ]
    }
   ],
   "execution_count": 7
  },
  {
   "metadata": {
    "ExecuteTime": {
     "end_time": "2025-09-05T23:21:35.895514Z",
     "start_time": "2025-09-05T23:21:32.665177Z"
    }
   },
   "cell_type": "code",
   "source": [
    "import subprocess\n",
    "\n",
    "for file_id in range(32, 71):\n",
    "    subprocess.run(\n",
    "        [\"python\", \"tree_generation_json.py\", f\"annotations/{file_id}.json\", \"-f\", \"pdf\"],\n",
    "        check=True\n",
    "    )\n"
   ],
   "outputs": [],
   "execution_count": 11
  },
  {
   "metadata": {},
   "cell_type": "code",
   "outputs": [],
   "execution_count": null,
   "source": ""
  }
 ],
 "metadata": {
  "kernelspec": {
   "argv": [
    "/usr/bin/python3",
    "-m",
    "ipykernel",
    "--HistoryManager.enabled=False",
    "--matplotlib=inline",
    "-c",
    "%config InlineBackend.figure_formats = set(['retina'])\nimport matplotlib; matplotlib.rcParams['figure.figsize'] = (12, 7)",
    "-f",
    "{connection_file}"
   ],
   "display_name": "Python 3 (system-wide)",
   "env": {},
   "language": "python",
   "metadata": {
    "cocalc": {
     "description": "Python 3 programming language",
     "priority": 100,
     "url": "https://www.python.org/"
    }
   },
   "name": "python3",
   "resource_dir": "/ext/jupyter/kernels/python3"
  },
  "language_info": {
   "codemirror_mode": {
    "name": "ipython",
    "version": 3
   },
   "file_extension": ".py",
   "mimetype": "text/x-python",
   "name": "python",
   "nbconvert_exporter": "python",
   "pygments_lexer": "ipython3",
   "version": "3.10.12"
  }
 },
 "nbformat": 4,
 "nbformat_minor": 4
}
