{
 "cells": [
  {
   "metadata": {
    "ExecuteTime": {
     "end_time": "2025-10-15T16:32:18.565522Z",
     "start_time": "2025-10-15T16:32:16.556342Z"
    }
   },
   "cell_type": "code",
   "source": [
    "import os\n",
    "import sagemaker\n",
    "\n",
    "if not os.environ.get('MODERN_BERT_ENDPOINT'):\n",
    "    os.environ[\"MODERN_BERT_ENDPOINT\"] = sagemaker.utils.name_from_base(\"modernbert-base-std\")\n",
    "    endpoint_name = os.environ[\"MODERN_BERT_ENDPOINT\"]\n",
    "os.environ[\"MODERN_BERT_MODEL_ID\"] = \"answerdotai/ModernBERT-base\"\n",
    "os.environ[\"MODERN_BERT_INSTANCE\"] = \"ml.g5.xlarge\"\n",
    "os.environ[\"AWS_REGION\"] = \"us-east-1\"\n",
    "os.environ[\"SAGEMAKER_EXECUTION_ROLE\"] = \"arn:aws:iam::371087393859:role/defaultrole\"\n",
    "print(endpoint_name)"
   ],
   "id": "f6eff71b39098c56",
   "outputs": [
    {
     "name": "stdout",
     "output_type": "stream",
     "text": [
      "sagemaker.config INFO - Not applying SDK defaults from location: /etc/xdg/xdg-ubuntu/sagemaker/config.yaml\n",
      "sagemaker.config INFO - Not applying SDK defaults from location: /home/lbrenap/.config/sagemaker/config.yaml\n",
      "modernbert-base-std-2025-10-15-16-32-18-563\n"
     ]
    }
   ],
   "execution_count": 1
  },
  {
   "metadata": {
    "ExecuteTime": {
     "end_time": "2025-10-15T16:41:33.053092Z",
     "start_time": "2025-10-15T16:32:18.633248Z"
    }
   },
   "cell_type": "code",
   "source": [
    "from annotations_classification.main import run_linear_svc_classification\n",
    "from pathlib import Path\n",
    "from annotations_classification.gpt5_classifier import GPT5Config\n",
    "annotation_dir = Path(\"/home/lbrenap/Documents/projects/detecting_arguments/annotations\")\n",
    "\n",
    "print(annotation_dir)\n",
    "results = run_linear_svc_classification(annotation_dir, use_modern_bert=True, gpt5=True, gpt5_config=GPT5Config(model=\"gpt-5-mini\"), test_mode=True, gpt5_checkpoint_path=\"checkpoints/gpt5_mini_predictions.jsonl\")"
   ],
   "id": "initial_id",
   "outputs": [
    {
     "name": "stderr",
     "output_type": "stream",
     "text": [
      "/home/lbrenap/miniconda3/envs/ai_agents/lib/python3.10/site-packages/tqdm/auto.py:21: TqdmWarning: IProgress not found. Please update jupyter and ipywidgets. See https://ipywidgets.readthedocs.io/en/stable/user_install.html\n",
      "  from .autonotebook import tqdm as notebook_tqdm\n"
     ]
    },
    {
     "name": "stdout",
     "output_type": "stream",
     "text": [
      "/home/lbrenap/Documents/projects/detecting_arguments/annotations\n",
      "\n",
      "Embedding: tfidf\n",
      "                    precision    recall  f1-score   support\n",
      "\n",
      "          Analysis       0.58      0.61      0.59       318\n",
      "  Background Facts       0.57      0.77      0.66        56\n",
      "        Conclusion       0.56      0.40      0.47       139\n",
      "Procedural History       0.63      0.56      0.60        71\n",
      "              Rule       0.63      0.65      0.64       271\n",
      "\n",
      "          accuracy                           0.60       855\n",
      "         macro avg       0.59      0.60      0.59       855\n",
      "      weighted avg       0.59      0.60      0.59       855\n",
      "\n"
     ]
    },
    {
     "name": "stderr",
     "output_type": "stream",
     "text": [
      "No sentence-transformers model found with name nlpaueb/legal-bert-small-uncased. Creating a new one with mean pooling.\n"
     ]
    },
    {
     "name": "stdout",
     "output_type": "stream",
     "text": [
      "\n",
      "Embedding: sbert\n",
      "                    precision    recall  f1-score   support\n",
      "\n",
      "          Analysis       0.60      0.55      0.57       318\n",
      "  Background Facts       0.45      0.66      0.54        56\n",
      "        Conclusion       0.55      0.56      0.55       139\n",
      "Procedural History       0.48      0.55      0.51        71\n",
      "              Rule       0.65      0.62      0.64       271\n",
      "\n",
      "          accuracy                           0.58       855\n",
      "         macro avg       0.55      0.59      0.56       855\n",
      "      weighted avg       0.59      0.58      0.58       855\n",
      "\n",
      "\n",
      "Embedding: legal-bert\n",
      "                    precision    recall  f1-score   support\n",
      "\n",
      "          Analysis       0.62      0.53      0.57       318\n",
      "  Background Facts       0.61      0.75      0.67        56\n",
      "        Conclusion       0.62      0.58      0.60       139\n",
      "Procedural History       0.59      0.68      0.63        71\n",
      "              Rule       0.64      0.72      0.67       271\n",
      "\n",
      "          accuracy                           0.62       855\n",
      "         macro avg       0.62      0.65      0.63       855\n",
      "      weighted avg       0.62      0.62      0.62       855\n",
      "\n",
      "-------------!\n",
      "Embedding: modern-bert\n",
      "                    precision    recall  f1-score   support\n",
      "\n",
      "          Analysis       0.59      0.50      0.54       318\n",
      "  Background Facts       0.57      0.73      0.64        56\n",
      "        Conclusion       0.50      0.65      0.57       139\n",
      "Procedural History       0.44      0.32      0.37        71\n",
      "              Rule       0.60      0.61      0.60       271\n",
      "\n",
      "          accuracy                           0.56       855\n",
      "         macro avg       0.54      0.57      0.55       855\n",
      "      weighted avg       0.56      0.56      0.56       855\n",
      "\n",
      "\n",
      "Baselines (F1-score)\n",
      "Classifier | Avg | Analysis | Background Facts | Conclusion | Procedural History | Rule\n",
      " - Random | 0.19 | 0.27 | 0.12 | 0.21 | 0.12 | 0.23\n",
      " - Majority | 0.11 | 0.54 | 0.00 | 0.00 | 0.00 | 0.00\n"
     ]
    },
    {
     "name": "stderr",
     "output_type": "stream",
     "text": [
      "gpt-5-mini:   0%|          | 0/10 [00:00<?, ?it/s]"
     ]
    },
    {
     "name": "stdout",
     "output_type": "stream",
     "text": [
      "[test_mode] Limiting GPT queries to 10 samples\n",
      "\n",
      "[test_mode] Prompt:\n",
      "Classify the target passage into one of the following labels and following the following guidelines: Analysis, Background Facts, Conclusion, Procedural History, or Rule. Respond with a single line in the exact format Class:[label].\n",
      "\n",
      "Additional Annotation Guidelines:\n",
      "- Background Facts: one continuous block (often long); may include IRS administrative actions (audits, assessments), and attributions like 'The Tax Court found...'; must not overlap with other spans; never connect with relations/arrows.\n",
      "- Procedural History: one continuous block; ONLY court procedure (complaints, motions, judgments, appeals, remands, cert petitions/grants). IRS administrative steps belong in Background Facts. Suing in court for a refund is Procedural History; paying IRS/requesting refund/administrative denial are Background Facts. May include recap of lower court’s reasoning. For Supreme Court, include cert petition/grant. Never connect with relations/arrows.\n",
      "- Non-overlap: Background Facts and Procedural History never overlap with each other or with Rule/Analysis/Conclusion.\n",
      "- Ignore early summaries: If the opening 1–3 paragraphs briefly summarize facts/procedure/law/holding and the same material appears later in detail, do NOT annotate those early summaries.\n",
      "- Rule: include legal principles AND their citations (cases, statutes, secondary sources) at the end of the Rule span.\n",
      "- CRAC handling: In a classic CRAC paragraph, initial Conclusion (C) is NOT annotated; Rule (R) is Rule; Analysis (A) is Analysis; the final C is often a second Analysis or a second Rule. Draw arrows/relations from the Rule and first Analysis to that second Analysis. If the conclusion appears only at the start (CRA), label that starting C as Analysis and point R and A back to it.\n",
      "- IRAC/CRAC exclusions: The 'I' in IRAC and the initial 'C' in CRAC are not annotated.\n",
      "- Unannotated exceptions: Court observations (historical/contextual remarks), pure party-argument recitals before evaluation (these are the 'I'), and statements of what the court is not deciding.\n",
      "- Distinguishing precedent: Put precedent’s facts/holding in Rule; explain why it doesn’t apply in Analysis; the resulting non-application conclusion is a second Analysis that points to the surviving Analysis/Conclusion.\n",
      "- Conclusions: At least one Conclusion per case. If only the disposition is stated (e.g., 'Judgment affirmed', 'Summary judgment granted'), annotate that as Conclusion. Multiple issues can yield multiple Conclusions.\n",
      "\n",
      "Context:\n",
      "determined the value of such stock by reference to the fair market value of the\n",
      "Regardless of the precise rule of valuation that we were attempting to apply, we have always followed the evidence of value on either side\n",
      "are acquired with such stock, we think that it is nonsensical to try to look at\n",
      "basis of the record before us, we find that Pittsburgh Terminal Corp. is distinguishable. First, in Pittsburgh Terminal Corp., all but an insignificant portion of the corporation’s stock\n",
      "Memory Systems Division, they had decided to scrap its assets for salvage value. After Ferroxcube had been unable to find a buyer, four key management employees of the Memory\n",
      "Consequently, it appears that *965 petitioner was the only party interested in purchasing the Memory Systems Division,\n",
      "petitioner had been organized by four employees of the Memory Systems Division who must have known the options that Ferroxcube faced, it is clear that Ferroxcube was placed at a\n",
      "While it may be true that the stock of a going concern\n",
      "ordinary sense of that term. See C. G. Meaker Co. v. Commissioner, 16 T.C. 1348 (1951). Fair market value has been defined as the price at which property would be sold by a knowledgeable seller to a knowledgeable buyer with neither party\n",
      "Nevertheless, where stock is exchanged for property pursuant to an arm’s-length transaction, the courts have, in certain instances, presumed that the value of such stock equaled the value of the property received in exchange therefor. See Pittsburgh Terminal Corp. v. Commissioner, supra; Moore-McCormack\n",
      "Division. Furthermore, respondent maintains that the preferred stock issued to Ferroxcube\n",
      "should be presumed to be equal to the value of the assets that it received in exchange therefor. Respondent, on the other hand, contends that it is inappropriate\n",
      "presumed\n",
      "Petitioner maintains that the value of the preferred stock issued to Ferroxcube is not ascertainable.\n",
      "determine whether petitioner’s cost basis in the assets that it purchased from Ferroxcube is\n",
      "considered to be the most reliable. * * * [60 T.C. at 88;\n",
      "were redeemable by petitioner for a total price of $100,000. To accept petitioner’s position, we would have to find that such preferred stock had a value of $652,180.7 We find it difficult to believe that stock worth $652,180 would be redeemable for only $100,000. Although petitioner maintains that the conversion privilege that accompanied the series B preferred\n",
      "contends that Pittsburgh Terminal Corp. is not distinguishable from the instant case because as long as the preferred stock issued to Ferroxcube is outstanding, the restrictions placed upon\n",
      "agreement restricted the payment of dividends or the distribution of property to the common stockholders, it did not totally prohibit such distributions but simply set forth conditions\n",
      "000 shares of petitioner’s common stock were outstanding and another 40,000 had been subscribed, while the series\n",
      "common stock\n",
      "2025 Thomson\n",
      "No claim to original U.S. Government\n",
      "Park Amusement\n",
      "Document\n",
      "Reuters.\n",
      "We\n",
      "e must\n",
      "New static block\n",
      "New static block\n",
      "\n",
      "Passage:\n",
      "Ferroxcube and correspondingly its cost basis in the assets it received from Ferroxcube by reference to the value of those assets. In Pittsburgh Terminal Corp., a newly formed corporation received virtually all of its assets in exchange for all but an insignificant portion of its stock. To ascertain the corporation’s basis in the property received, this\n",
      "\n"
     ]
    },
    {
     "name": "stderr",
     "output_type": "stream",
     "text": [
      "gpt-5-mini:  10%|█         | 1/10 [00:03<00:31,  3.52s/it]"
     ]
    },
    {
     "name": "stdout",
     "output_type": "stream",
     "text": [
      "This is the response: Response(id='resp_076faa89044fd9a50068efcea3bc28819784f4ba34a499bd6c', created_at=1760546467.0, error=None, incomplete_details=None, instructions=None, metadata={}, model='gpt-5-mini-2025-08-07', object='response', output=[ResponseReasoningItem(id='rs_076faa89044fd9a50068efcea56740819780db16a1d8d93018', summary=[], type='reasoning', content=None, encrypted_content=None, status=None), ResponseOutputMessage(id='msg_076faa89044fd9a50068efcea60650819782d0d9fc310d8b8a', content=[ResponseOutputText(annotations=[], text='Class:Rule', type='output_text', logprobs=[])], role='assistant', status='completed', type='message')], parallel_tool_calls=True, temperature=1.0, tool_choice='auto', tools=[], top_p=1.0, background=False, conversation=None, max_output_tokens=1024, max_tool_calls=None, previous_response_id=None, prompt=None, prompt_cache_key=None, reasoning=Reasoning(effort='low', generate_summary=None, summary=None), safety_identifier=None, service_tier='default', status='completed', text=ResponseTextConfig(format=ResponseFormatText(type='text'), verbosity='medium'), top_logprobs=0, truncation='disabled', usage=ResponseUsage(input_tokens=1232, input_tokens_details=InputTokensDetails(cached_tokens=0), output_tokens=9, output_tokens_details=OutputTokensDetails(reasoning_tokens=0), total_tokens=1241), user=None, billing={'payer': 'developer'}, store=True)\n",
      "[test_mode] Raw response:\n",
      "Class:Rule\n",
      "[test_mode] Parsed label: Rule\n",
      "\n",
      "[test_mode] Prompt:\n",
      "Classify the target passage into one of the following labels and following the following guidelines: Analysis, Background Facts, Conclusion, Procedural History, or Rule. Respond with a single line in the exact format Class:[label].\n",
      "\n",
      "Additional Annotation Guidelines:\n",
      "- Background Facts: one continuous block (often long); may include IRS administrative actions (audits, assessments), and attributions like 'The Tax Court found...'; must not overlap with other spans; never connect with relations/arrows.\n",
      "- Procedural History: one continuous block; ONLY court procedure (complaints, motions, judgments, appeals, remands, cert petitions/grants). IRS administrative steps belong in Background Facts. Suing in court for a refund is Procedural History; paying IRS/requesting refund/administrative denial are Background Facts. May include recap of lower court’s reasoning. For Supreme Court, include cert petition/grant. Never connect with relations/arrows.\n",
      "- Non-overlap: Background Facts and Procedural History never overlap with each other or with Rule/Analysis/Conclusion.\n",
      "- Ignore early summaries: If the opening 1–3 paragraphs briefly summarize facts/procedure/law/holding and the same material appears later in detail, do NOT annotate those early summaries.\n",
      "- Rule: include legal principles AND their citations (cases, statutes, secondary sources) at the end of the Rule span.\n",
      "- CRAC handling: In a classic CRAC paragraph, initial Conclusion (C) is NOT annotated; Rule (R) is Rule; Analysis (A) is Analysis; the final C is often a second Analysis or a second Rule. Draw arrows/relations from the Rule and first Analysis to that second Analysis. If the conclusion appears only at the start (CRA), label that starting C as Analysis and point R and A back to it.\n",
      "- IRAC/CRAC exclusions: The 'I' in IRAC and the initial 'C' in CRAC are not annotated.\n",
      "- Unannotated exceptions: Court observations (historical/contextual remarks), pure party-argument recitals before evaluation (these are the 'I'), and statements of what the court is not deciding.\n",
      "- Distinguishing precedent: Put precedent’s facts/holding in Rule; explain why it doesn’t apply in Analysis; the resulting non-application conclusion is a second Analysis that points to the surviving Analysis/Conclusion.\n",
      "- Conclusions: At least one Conclusion per case. If only the disposition is stated (e.g., 'Judgment affirmed', 'Summary judgment granted'), annotate that as Conclusion. Multiple issues can yield multiple Conclusions.\n",
      "\n",
      "Context:\n",
      "Ferroxcube and correspondingly its cost basis in the assets it received from Ferroxcube by reference to the value of those assets. In Pittsburgh Terminal Corp., a newly formed corporation received virtually all of its assets in exchange for all but an insignificant portion of its stock. To ascertain the corporation’s basis in the property received, this\n",
      "Regardless of the precise rule of valuation that we were attempting to apply, we have always followed the evidence of value on either side\n",
      "are acquired with such stock, we think that it is nonsensical to try to look at\n",
      "basis of the record before us, we find that Pittsburgh Terminal Corp. is distinguishable. First, in Pittsburgh Terminal Corp., all but an insignificant portion of the corporation’s stock\n",
      "Memory Systems Division, they had decided to scrap its assets for salvage value. After Ferroxcube had been unable to find a buyer, four key management employees of the Memory\n",
      "Consequently, it appears that *965 petitioner was the only party interested in purchasing the Memory Systems Division,\n",
      "petitioner had been organized by four employees of the Memory Systems Division who must have known the options that Ferroxcube faced, it is clear that Ferroxcube was placed at a\n",
      "While it may be true that the stock of a going concern\n",
      "ordinary sense of that term. See C. G. Meaker Co. v. Commissioner, 16 T.C. 1348 (1951). Fair market value has been defined as the price at which property would be sold by a knowledgeable seller to a knowledgeable buyer with neither party\n",
      "Nevertheless, where stock is exchanged for property pursuant to an arm’s-length transaction, the courts have, in certain instances, presumed that the value of such stock equaled the value of the property received in exchange therefor. See Pittsburgh Terminal Corp. v. Commissioner, supra; Moore-McCormack\n",
      "Division. Furthermore, respondent maintains that the preferred stock issued to Ferroxcube\n",
      "should be presumed to be equal to the value of the assets that it received in exchange therefor. Respondent, on the other hand, contends that it is inappropriate\n",
      "presumed\n",
      "Petitioner maintains that the value of the preferred stock issued to Ferroxcube is not ascertainable.\n",
      "determine whether petitioner’s cost basis in the assets that it purchased from Ferroxcube is\n",
      "considered to be the most reliable. * * * [60 T.C. at 88;\n",
      "were redeemable by petitioner for a total price of $100,000. To accept petitioner’s position, we would have to find that such preferred stock had a value of $652,180.7 We find it difficult to believe that stock worth $652,180 would be redeemable for only $100,000. Although petitioner maintains that the conversion privilege that accompanied the series B preferred\n",
      "contends that Pittsburgh Terminal Corp. is not distinguishable from the instant case because as long as the preferred stock issued to Ferroxcube is outstanding, the restrictions placed upon\n",
      "agreement restricted the payment of dividends or the distribution of property to the common stockholders, it did not totally prohibit such distributions but simply set forth conditions\n",
      "000 shares of petitioner’s common stock were outstanding and another 40,000 had been subscribed, while the series\n",
      "common stock\n",
      "2025 Thomson\n",
      "No claim to original U.S. Government\n",
      "Park Amusement\n",
      "Document\n",
      "Reuters.\n",
      "We\n",
      "e must\n",
      "New static block\n",
      "New static block\n",
      "\n",
      "Passage:\n",
      "determined the value of such stock by reference to the fair market value of the\n",
      "\n"
     ]
    },
    {
     "name": "stderr",
     "output_type": "stream",
     "text": [
      "gpt-5-mini:  20%|██        | 2/10 [00:08<00:33,  4.24s/it]"
     ]
    },
    {
     "name": "stdout",
     "output_type": "stream",
     "text": [
      "This is the response: Response(id='resp_031b9a4a7182896c0068efcea719f48190bd1dcac0ae1be98a', created_at=1760546471.0, error=None, incomplete_details=None, instructions=None, metadata={}, model='gpt-5-mini-2025-08-07', object='response', output=[ResponseReasoningItem(id='rs_031b9a4a7182896c0068efcea80a1881908b7a87baebc94963', summary=[], type='reasoning', content=None, encrypted_content=None, status=None), ResponseOutputMessage(id='msg_031b9a4a7182896c0068efceaac4908190aaf5233ca5a17b83', content=[ResponseOutputText(annotations=[], text='Class:Analysis', type='output_text', logprobs=[])], role='assistant', status='completed', type='message')], parallel_tool_calls=True, temperature=1.0, tool_choice='auto', tools=[], top_p=1.0, background=False, conversation=None, max_output_tokens=1024, max_tool_calls=None, previous_response_id=None, prompt=None, prompt_cache_key=None, reasoning=Reasoning(effort='low', generate_summary=None, summary=None), safety_identifier=None, service_tier='default', status='completed', text=ResponseTextConfig(format=ResponseFormatText(type='text'), verbosity='medium'), top_logprobs=0, truncation='disabled', usage=ResponseUsage(input_tokens=1232, input_tokens_details=InputTokensDetails(cached_tokens=0), output_tokens=137, output_tokens_details=OutputTokensDetails(reasoning_tokens=128), total_tokens=1369), user=None, billing={'payer': 'developer'}, store=True)\n",
      "[test_mode] Raw response:\n",
      "Class:Analysis\n",
      "[test_mode] Parsed label: Analysis\n",
      "\n",
      "[test_mode] Prompt:\n",
      "Classify the target passage into one of the following labels and following the following guidelines: Analysis, Background Facts, Conclusion, Procedural History, or Rule. Respond with a single line in the exact format Class:[label].\n",
      "\n",
      "Additional Annotation Guidelines:\n",
      "- Background Facts: one continuous block (often long); may include IRS administrative actions (audits, assessments), and attributions like 'The Tax Court found...'; must not overlap with other spans; never connect with relations/arrows.\n",
      "- Procedural History: one continuous block; ONLY court procedure (complaints, motions, judgments, appeals, remands, cert petitions/grants). IRS administrative steps belong in Background Facts. Suing in court for a refund is Procedural History; paying IRS/requesting refund/administrative denial are Background Facts. May include recap of lower court’s reasoning. For Supreme Court, include cert petition/grant. Never connect with relations/arrows.\n",
      "- Non-overlap: Background Facts and Procedural History never overlap with each other or with Rule/Analysis/Conclusion.\n",
      "- Ignore early summaries: If the opening 1–3 paragraphs briefly summarize facts/procedure/law/holding and the same material appears later in detail, do NOT annotate those early summaries.\n",
      "- Rule: include legal principles AND their citations (cases, statutes, secondary sources) at the end of the Rule span.\n",
      "- CRAC handling: In a classic CRAC paragraph, initial Conclusion (C) is NOT annotated; Rule (R) is Rule; Analysis (A) is Analysis; the final C is often a second Analysis or a second Rule. Draw arrows/relations from the Rule and first Analysis to that second Analysis. If the conclusion appears only at the start (CRA), label that starting C as Analysis and point R and A back to it.\n",
      "- IRAC/CRAC exclusions: The 'I' in IRAC and the initial 'C' in CRAC are not annotated.\n",
      "- Unannotated exceptions: Court observations (historical/contextual remarks), pure party-argument recitals before evaluation (these are the 'I'), and statements of what the court is not deciding.\n",
      "- Distinguishing precedent: Put precedent’s facts/holding in Rule; explain why it doesn’t apply in Analysis; the resulting non-application conclusion is a second Analysis that points to the surviving Analysis/Conclusion.\n",
      "- Conclusions: At least one Conclusion per case. If only the disposition is stated (e.g., 'Judgment affirmed', 'Summary judgment granted'), annotate that as Conclusion. Multiple issues can yield multiple Conclusions.\n",
      "\n",
      "Context:\n",
      "Ferroxcube and correspondingly its cost basis in the assets it received from Ferroxcube by reference to the value of those assets. In Pittsburgh Terminal Corp., a newly formed corporation received virtually all of its assets in exchange for all but an insignificant portion of its stock. To ascertain the corporation’s basis in the property received, this\n",
      "determined the value of such stock by reference to the fair market value of the\n",
      "are acquired with such stock, we think that it is nonsensical to try to look at\n",
      "basis of the record before us, we find that Pittsburgh Terminal Corp. is distinguishable. First, in Pittsburgh Terminal Corp., all but an insignificant portion of the corporation’s stock\n",
      "Memory Systems Division, they had decided to scrap its assets for salvage value. After Ferroxcube had been unable to find a buyer, four key management employees of the Memory\n",
      "Consequently, it appears that *965 petitioner was the only party interested in purchasing the Memory Systems Division,\n",
      "petitioner had been organized by four employees of the Memory Systems Division who must have known the options that Ferroxcube faced, it is clear that Ferroxcube was placed at a\n",
      "While it may be true that the stock of a going concern\n",
      "ordinary sense of that term. See C. G. Meaker Co. v. Commissioner, 16 T.C. 1348 (1951). Fair market value has been defined as the price at which property would be sold by a knowledgeable seller to a knowledgeable buyer with neither party\n",
      "Nevertheless, where stock is exchanged for property pursuant to an arm’s-length transaction, the courts have, in certain instances, presumed that the value of such stock equaled the value of the property received in exchange therefor. See Pittsburgh Terminal Corp. v. Commissioner, supra; Moore-McCormack\n",
      "Division. Furthermore, respondent maintains that the preferred stock issued to Ferroxcube\n",
      "should be presumed to be equal to the value of the assets that it received in exchange therefor. Respondent, on the other hand, contends that it is inappropriate\n",
      "presumed\n",
      "Petitioner maintains that the value of the preferred stock issued to Ferroxcube is not ascertainable.\n",
      "determine whether petitioner’s cost basis in the assets that it purchased from Ferroxcube is\n",
      "considered to be the most reliable. * * * [60 T.C. at 88;\n",
      "were redeemable by petitioner for a total price of $100,000. To accept petitioner’s position, we would have to find that such preferred stock had a value of $652,180.7 We find it difficult to believe that stock worth $652,180 would be redeemable for only $100,000. Although petitioner maintains that the conversion privilege that accompanied the series B preferred\n",
      "contends that Pittsburgh Terminal Corp. is not distinguishable from the instant case because as long as the preferred stock issued to Ferroxcube is outstanding, the restrictions placed upon\n",
      "agreement restricted the payment of dividends or the distribution of property to the common stockholders, it did not totally prohibit such distributions but simply set forth conditions\n",
      "000 shares of petitioner’s common stock were outstanding and another 40,000 had been subscribed, while the series\n",
      "common stock\n",
      "2025 Thomson\n",
      "No claim to original U.S. Government\n",
      "Park Amusement\n",
      "Document\n",
      "Reuters.\n",
      "We\n",
      "e must\n",
      "New static block\n",
      "New static block\n",
      "\n",
      "Passage:\n",
      "Regardless of the precise rule of valuation that we were attempting to apply, we have always followed the evidence of value on either side\n",
      "\n"
     ]
    },
    {
     "name": "stderr",
     "output_type": "stream",
     "text": [
      "gpt-5-mini:  30%|███       | 3/10 [00:10<00:24,  3.52s/it]"
     ]
    },
    {
     "name": "stdout",
     "output_type": "stream",
     "text": [
      "This is the response: Response(id='resp_02bef8583bb67b140068efceabb0ac8194b0cac1f0166d13c4', created_at=1760546475.0, error=None, incomplete_details=None, instructions=None, metadata={}, model='gpt-5-mini-2025-08-07', object='response', output=[ResponseReasoningItem(id='rs_02bef8583bb67b140068efceac6ccc81948d5ea2443399fdfa', summary=[], type='reasoning', content=None, encrypted_content=None, status=None), ResponseOutputMessage(id='msg_02bef8583bb67b140068efcead7e3c81949e0730ca4ca1f243', content=[ResponseOutputText(annotations=[], text='Class:Rule', type='output_text', logprobs=[])], role='assistant', status='completed', type='message')], parallel_tool_calls=True, temperature=1.0, tool_choice='auto', tools=[], top_p=1.0, background=False, conversation=None, max_output_tokens=1024, max_tool_calls=None, previous_response_id=None, prompt=None, prompt_cache_key=None, reasoning=Reasoning(effort='low', generate_summary=None, summary=None), safety_identifier=None, service_tier='default', status='completed', text=ResponseTextConfig(format=ResponseFormatText(type='text'), verbosity='medium'), top_logprobs=0, truncation='disabled', usage=ResponseUsage(input_tokens=1232, input_tokens_details=InputTokensDetails(cached_tokens=0), output_tokens=73, output_tokens_details=OutputTokensDetails(reasoning_tokens=64), total_tokens=1305), user=None, billing={'payer': 'developer'}, store=True)\n",
      "[test_mode] Raw response:\n",
      "Class:Rule\n",
      "[test_mode] Parsed label: Rule\n",
      "\n",
      "[test_mode] Prompt:\n",
      "Classify the target passage into one of the following labels and following the following guidelines: Analysis, Background Facts, Conclusion, Procedural History, or Rule. Respond with a single line in the exact format Class:[label].\n",
      "\n",
      "Additional Annotation Guidelines:\n",
      "- Background Facts: one continuous block (often long); may include IRS administrative actions (audits, assessments), and attributions like 'The Tax Court found...'; must not overlap with other spans; never connect with relations/arrows.\n",
      "- Procedural History: one continuous block; ONLY court procedure (complaints, motions, judgments, appeals, remands, cert petitions/grants). IRS administrative steps belong in Background Facts. Suing in court for a refund is Procedural History; paying IRS/requesting refund/administrative denial are Background Facts. May include recap of lower court’s reasoning. For Supreme Court, include cert petition/grant. Never connect with relations/arrows.\n",
      "- Non-overlap: Background Facts and Procedural History never overlap with each other or with Rule/Analysis/Conclusion.\n",
      "- Ignore early summaries: If the opening 1–3 paragraphs briefly summarize facts/procedure/law/holding and the same material appears later in detail, do NOT annotate those early summaries.\n",
      "- Rule: include legal principles AND their citations (cases, statutes, secondary sources) at the end of the Rule span.\n",
      "- CRAC handling: In a classic CRAC paragraph, initial Conclusion (C) is NOT annotated; Rule (R) is Rule; Analysis (A) is Analysis; the final C is often a second Analysis or a second Rule. Draw arrows/relations from the Rule and first Analysis to that second Analysis. If the conclusion appears only at the start (CRA), label that starting C as Analysis and point R and A back to it.\n",
      "- IRAC/CRAC exclusions: The 'I' in IRAC and the initial 'C' in CRAC are not annotated.\n",
      "- Unannotated exceptions: Court observations (historical/contextual remarks), pure party-argument recitals before evaluation (these are the 'I'), and statements of what the court is not deciding.\n",
      "- Distinguishing precedent: Put precedent’s facts/holding in Rule; explain why it doesn’t apply in Analysis; the resulting non-application conclusion is a second Analysis that points to the surviving Analysis/Conclusion.\n",
      "- Conclusions: At least one Conclusion per case. If only the disposition is stated (e.g., 'Judgment affirmed', 'Summary judgment granted'), annotate that as Conclusion. Multiple issues can yield multiple Conclusions.\n",
      "\n",
      "Context:\n",
      "Ferroxcube and correspondingly its cost basis in the assets it received from Ferroxcube by reference to the value of those assets. In Pittsburgh Terminal Corp., a newly formed corporation received virtually all of its assets in exchange for all but an insignificant portion of its stock. To ascertain the corporation’s basis in the property received, this\n",
      "determined the value of such stock by reference to the fair market value of the\n",
      "Regardless of the precise rule of valuation that we were attempting to apply, we have always followed the evidence of value on either side\n",
      "basis of the record before us, we find that Pittsburgh Terminal Corp. is distinguishable. First, in Pittsburgh Terminal Corp., all but an insignificant portion of the corporation’s stock\n",
      "Memory Systems Division, they had decided to scrap its assets for salvage value. After Ferroxcube had been unable to find a buyer, four key management employees of the Memory\n",
      "Consequently, it appears that *965 petitioner was the only party interested in purchasing the Memory Systems Division,\n",
      "petitioner had been organized by four employees of the Memory Systems Division who must have known the options that Ferroxcube faced, it is clear that Ferroxcube was placed at a\n",
      "While it may be true that the stock of a going concern\n",
      "ordinary sense of that term. See C. G. Meaker Co. v. Commissioner, 16 T.C. 1348 (1951). Fair market value has been defined as the price at which property would be sold by a knowledgeable seller to a knowledgeable buyer with neither party\n",
      "Nevertheless, where stock is exchanged for property pursuant to an arm’s-length transaction, the courts have, in certain instances, presumed that the value of such stock equaled the value of the property received in exchange therefor. See Pittsburgh Terminal Corp. v. Commissioner, supra; Moore-McCormack\n",
      "Division. Furthermore, respondent maintains that the preferred stock issued to Ferroxcube\n",
      "should be presumed to be equal to the value of the assets that it received in exchange therefor. Respondent, on the other hand, contends that it is inappropriate\n",
      "presumed\n",
      "Petitioner maintains that the value of the preferred stock issued to Ferroxcube is not ascertainable.\n",
      "determine whether petitioner’s cost basis in the assets that it purchased from Ferroxcube is\n",
      "considered to be the most reliable. * * * [60 T.C. at 88;\n",
      "were redeemable by petitioner for a total price of $100,000. To accept petitioner’s position, we would have to find that such preferred stock had a value of $652,180.7 We find it difficult to believe that stock worth $652,180 would be redeemable for only $100,000. Although petitioner maintains that the conversion privilege that accompanied the series B preferred\n",
      "contends that Pittsburgh Terminal Corp. is not distinguishable from the instant case because as long as the preferred stock issued to Ferroxcube is outstanding, the restrictions placed upon\n",
      "agreement restricted the payment of dividends or the distribution of property to the common stockholders, it did not totally prohibit such distributions but simply set forth conditions\n",
      "000 shares of petitioner’s common stock were outstanding and another 40,000 had been subscribed, while the series\n",
      "common stock\n",
      "2025 Thomson\n",
      "No claim to original U.S. Government\n",
      "Park Amusement\n",
      "Document\n",
      "Reuters.\n",
      "We\n",
      "e must\n",
      "New static block\n",
      "New static block\n",
      "\n",
      "Passage:\n",
      "are acquired with such stock, we think that it is nonsensical to try to look at\n",
      "\n"
     ]
    },
    {
     "name": "stderr",
     "output_type": "stream",
     "text": [
      "gpt-5-mini:  40%|████      | 4/10 [00:12<00:17,  2.85s/it]"
     ]
    },
    {
     "name": "stdout",
     "output_type": "stream",
     "text": [
      "This is the response: Response(id='resp_0beab30218c6f97c0068efceadec8481949544393ccbdad2a8', created_at=1760546477.0, error=None, incomplete_details=None, instructions=None, metadata={}, model='gpt-5-mini-2025-08-07', object='response', output=[ResponseReasoningItem(id='rs_0beab30218c6f97c0068efceae6f5c819496895fce5e012d9d', summary=[], type='reasoning', content=None, encrypted_content=None, status=None), ResponseOutputMessage(id='msg_0beab30218c6f97c0068efceaf49208194b17b4b5af8bede48', content=[ResponseOutputText(annotations=[], text='Class:Analysis', type='output_text', logprobs=[])], role='assistant', status='completed', type='message')], parallel_tool_calls=True, temperature=1.0, tool_choice='auto', tools=[], top_p=1.0, background=False, conversation=None, max_output_tokens=1024, max_tool_calls=None, previous_response_id=None, prompt=None, prompt_cache_key=None, reasoning=Reasoning(effort='low', generate_summary=None, summary=None), safety_identifier=None, service_tier='default', status='completed', text=ResponseTextConfig(format=ResponseFormatText(type='text'), verbosity='medium'), top_logprobs=0, truncation='disabled', usage=ResponseUsage(input_tokens=1232, input_tokens_details=InputTokensDetails(cached_tokens=0), output_tokens=73, output_tokens_details=OutputTokensDetails(reasoning_tokens=64), total_tokens=1305), user=None, billing={'payer': 'developer'}, store=True)\n",
      "[test_mode] Raw response:\n",
      "Class:Analysis\n",
      "[test_mode] Parsed label: Analysis\n",
      "\n",
      "[test_mode] Prompt:\n",
      "Classify the target passage into one of the following labels and following the following guidelines: Analysis, Background Facts, Conclusion, Procedural History, or Rule. Respond with a single line in the exact format Class:[label].\n",
      "\n",
      "Additional Annotation Guidelines:\n",
      "- Background Facts: one continuous block (often long); may include IRS administrative actions (audits, assessments), and attributions like 'The Tax Court found...'; must not overlap with other spans; never connect with relations/arrows.\n",
      "- Procedural History: one continuous block; ONLY court procedure (complaints, motions, judgments, appeals, remands, cert petitions/grants). IRS administrative steps belong in Background Facts. Suing in court for a refund is Procedural History; paying IRS/requesting refund/administrative denial are Background Facts. May include recap of lower court’s reasoning. For Supreme Court, include cert petition/grant. Never connect with relations/arrows.\n",
      "- Non-overlap: Background Facts and Procedural History never overlap with each other or with Rule/Analysis/Conclusion.\n",
      "- Ignore early summaries: If the opening 1–3 paragraphs briefly summarize facts/procedure/law/holding and the same material appears later in detail, do NOT annotate those early summaries.\n",
      "- Rule: include legal principles AND their citations (cases, statutes, secondary sources) at the end of the Rule span.\n",
      "- CRAC handling: In a classic CRAC paragraph, initial Conclusion (C) is NOT annotated; Rule (R) is Rule; Analysis (A) is Analysis; the final C is often a second Analysis or a second Rule. Draw arrows/relations from the Rule and first Analysis to that second Analysis. If the conclusion appears only at the start (CRA), label that starting C as Analysis and point R and A back to it.\n",
      "- IRAC/CRAC exclusions: The 'I' in IRAC and the initial 'C' in CRAC are not annotated.\n",
      "- Unannotated exceptions: Court observations (historical/contextual remarks), pure party-argument recitals before evaluation (these are the 'I'), and statements of what the court is not deciding.\n",
      "- Distinguishing precedent: Put precedent’s facts/holding in Rule; explain why it doesn’t apply in Analysis; the resulting non-application conclusion is a second Analysis that points to the surviving Analysis/Conclusion.\n",
      "- Conclusions: At least one Conclusion per case. If only the disposition is stated (e.g., 'Judgment affirmed', 'Summary judgment granted'), annotate that as Conclusion. Multiple issues can yield multiple Conclusions.\n",
      "\n",
      "Context:\n",
      "Ferroxcube and correspondingly its cost basis in the assets it received from Ferroxcube by reference to the value of those assets. In Pittsburgh Terminal Corp., a newly formed corporation received virtually all of its assets in exchange for all but an insignificant portion of its stock. To ascertain the corporation’s basis in the property received, this\n",
      "determined the value of such stock by reference to the fair market value of the\n",
      "Regardless of the precise rule of valuation that we were attempting to apply, we have always followed the evidence of value on either side\n",
      "are acquired with such stock, we think that it is nonsensical to try to look at\n",
      "Memory Systems Division, they had decided to scrap its assets for salvage value. After Ferroxcube had been unable to find a buyer, four key management employees of the Memory\n",
      "Consequently, it appears that *965 petitioner was the only party interested in purchasing the Memory Systems Division,\n",
      "petitioner had been organized by four employees of the Memory Systems Division who must have known the options that Ferroxcube faced, it is clear that Ferroxcube was placed at a\n",
      "While it may be true that the stock of a going concern\n",
      "ordinary sense of that term. See C. G. Meaker Co. v. Commissioner, 16 T.C. 1348 (1951). Fair market value has been defined as the price at which property would be sold by a knowledgeable seller to a knowledgeable buyer with neither party\n",
      "Nevertheless, where stock is exchanged for property pursuant to an arm’s-length transaction, the courts have, in certain instances, presumed that the value of such stock equaled the value of the property received in exchange therefor. See Pittsburgh Terminal Corp. v. Commissioner, supra; Moore-McCormack\n",
      "Division. Furthermore, respondent maintains that the preferred stock issued to Ferroxcube\n",
      "should be presumed to be equal to the value of the assets that it received in exchange therefor. Respondent, on the other hand, contends that it is inappropriate\n",
      "presumed\n",
      "Petitioner maintains that the value of the preferred stock issued to Ferroxcube is not ascertainable.\n",
      "determine whether petitioner’s cost basis in the assets that it purchased from Ferroxcube is\n",
      "considered to be the most reliable. * * * [60 T.C. at 88;\n",
      "were redeemable by petitioner for a total price of $100,000. To accept petitioner’s position, we would have to find that such preferred stock had a value of $652,180.7 We find it difficult to believe that stock worth $652,180 would be redeemable for only $100,000. Although petitioner maintains that the conversion privilege that accompanied the series B preferred\n",
      "contends that Pittsburgh Terminal Corp. is not distinguishable from the instant case because as long as the preferred stock issued to Ferroxcube is outstanding, the restrictions placed upon\n",
      "agreement restricted the payment of dividends or the distribution of property to the common stockholders, it did not totally prohibit such distributions but simply set forth conditions\n",
      "000 shares of petitioner’s common stock were outstanding and another 40,000 had been subscribed, while the series\n",
      "common stock\n",
      "2025 Thomson\n",
      "No claim to original U.S. Government\n",
      "Park Amusement\n",
      "Document\n",
      "Reuters.\n",
      "We\n",
      "e must\n",
      "New static block\n",
      "New static block\n",
      "\n",
      "Passage:\n",
      "basis of the record before us, we find that Pittsburgh Terminal Corp. is distinguishable. First, in Pittsburgh Terminal Corp., all but an insignificant portion of the corporation’s stock\n",
      "\n"
     ]
    },
    {
     "name": "stderr",
     "output_type": "stream",
     "text": [
      "gpt-5-mini:  50%|█████     | 5/10 [00:14<00:12,  2.52s/it]"
     ]
    },
    {
     "name": "stdout",
     "output_type": "stream",
     "text": [
      "This is the response: Response(id='resp_0894e1b81a73821d0068efceb0098c81909215eeacbadc1aa9', created_at=1760546480.0, error=None, incomplete_details=None, instructions=None, metadata={}, model='gpt-5-mini-2025-08-07', object='response', output=[ResponseReasoningItem(id='rs_0894e1b81a73821d0068efceb0995881908f38eae47b6c4db2', summary=[], type='reasoning', content=None, encrypted_content=None, status=None), ResponseOutputMessage(id='msg_0894e1b81a73821d0068efceb162708190830127851c42ceaf', content=[ResponseOutputText(annotations=[], text='Class:Analysis', type='output_text', logprobs=[])], role='assistant', status='completed', type='message')], parallel_tool_calls=True, temperature=1.0, tool_choice='auto', tools=[], top_p=1.0, background=False, conversation=None, max_output_tokens=1024, max_tool_calls=None, previous_response_id=None, prompt=None, prompt_cache_key=None, reasoning=Reasoning(effort='low', generate_summary=None, summary=None), safety_identifier=None, service_tier='default', status='completed', text=ResponseTextConfig(format=ResponseFormatText(type='text'), verbosity='medium'), top_logprobs=0, truncation='disabled', usage=ResponseUsage(input_tokens=1232, input_tokens_details=InputTokensDetails(cached_tokens=0), output_tokens=73, output_tokens_details=OutputTokensDetails(reasoning_tokens=64), total_tokens=1305), user=None, billing={'payer': 'developer'}, store=True)\n",
      "[test_mode] Raw response:\n",
      "Class:Analysis\n",
      "[test_mode] Parsed label: Analysis\n",
      "\n",
      "[test_mode] Prompt:\n",
      "Classify the target passage into one of the following labels and following the following guidelines: Analysis, Background Facts, Conclusion, Procedural History, or Rule. Respond with a single line in the exact format Class:[label].\n",
      "\n",
      "Additional Annotation Guidelines:\n",
      "- Background Facts: one continuous block (often long); may include IRS administrative actions (audits, assessments), and attributions like 'The Tax Court found...'; must not overlap with other spans; never connect with relations/arrows.\n",
      "- Procedural History: one continuous block; ONLY court procedure (complaints, motions, judgments, appeals, remands, cert petitions/grants). IRS administrative steps belong in Background Facts. Suing in court for a refund is Procedural History; paying IRS/requesting refund/administrative denial are Background Facts. May include recap of lower court’s reasoning. For Supreme Court, include cert petition/grant. Never connect with relations/arrows.\n",
      "- Non-overlap: Background Facts and Procedural History never overlap with each other or with Rule/Analysis/Conclusion.\n",
      "- Ignore early summaries: If the opening 1–3 paragraphs briefly summarize facts/procedure/law/holding and the same material appears later in detail, do NOT annotate those early summaries.\n",
      "- Rule: include legal principles AND their citations (cases, statutes, secondary sources) at the end of the Rule span.\n",
      "- CRAC handling: In a classic CRAC paragraph, initial Conclusion (C) is NOT annotated; Rule (R) is Rule; Analysis (A) is Analysis; the final C is often a second Analysis or a second Rule. Draw arrows/relations from the Rule and first Analysis to that second Analysis. If the conclusion appears only at the start (CRA), label that starting C as Analysis and point R and A back to it.\n",
      "- IRAC/CRAC exclusions: The 'I' in IRAC and the initial 'C' in CRAC are not annotated.\n",
      "- Unannotated exceptions: Court observations (historical/contextual remarks), pure party-argument recitals before evaluation (these are the 'I'), and statements of what the court is not deciding.\n",
      "- Distinguishing precedent: Put precedent’s facts/holding in Rule; explain why it doesn’t apply in Analysis; the resulting non-application conclusion is a second Analysis that points to the surviving Analysis/Conclusion.\n",
      "- Conclusions: At least one Conclusion per case. If only the disposition is stated (e.g., 'Judgment affirmed', 'Summary judgment granted'), annotate that as Conclusion. Multiple issues can yield multiple Conclusions.\n",
      "\n",
      "Context:\n",
      "Ferroxcube and correspondingly its cost basis in the assets it received from Ferroxcube by reference to the value of those assets. In Pittsburgh Terminal Corp., a newly formed corporation received virtually all of its assets in exchange for all but an insignificant portion of its stock. To ascertain the corporation’s basis in the property received, this\n",
      "determined the value of such stock by reference to the fair market value of the\n",
      "Regardless of the precise rule of valuation that we were attempting to apply, we have always followed the evidence of value on either side\n",
      "are acquired with such stock, we think that it is nonsensical to try to look at\n",
      "basis of the record before us, we find that Pittsburgh Terminal Corp. is distinguishable. First, in Pittsburgh Terminal Corp., all but an insignificant portion of the corporation’s stock\n",
      "Consequently, it appears that *965 petitioner was the only party interested in purchasing the Memory Systems Division,\n",
      "petitioner had been organized by four employees of the Memory Systems Division who must have known the options that Ferroxcube faced, it is clear that Ferroxcube was placed at a\n",
      "While it may be true that the stock of a going concern\n",
      "ordinary sense of that term. See C. G. Meaker Co. v. Commissioner, 16 T.C. 1348 (1951). Fair market value has been defined as the price at which property would be sold by a knowledgeable seller to a knowledgeable buyer with neither party\n",
      "Nevertheless, where stock is exchanged for property pursuant to an arm’s-length transaction, the courts have, in certain instances, presumed that the value of such stock equaled the value of the property received in exchange therefor. See Pittsburgh Terminal Corp. v. Commissioner, supra; Moore-McCormack\n",
      "Division. Furthermore, respondent maintains that the preferred stock issued to Ferroxcube\n",
      "should be presumed to be equal to the value of the assets that it received in exchange therefor. Respondent, on the other hand, contends that it is inappropriate\n",
      "presumed\n",
      "Petitioner maintains that the value of the preferred stock issued to Ferroxcube is not ascertainable.\n",
      "determine whether petitioner’s cost basis in the assets that it purchased from Ferroxcube is\n",
      "considered to be the most reliable. * * * [60 T.C. at 88;\n",
      "were redeemable by petitioner for a total price of $100,000. To accept petitioner’s position, we would have to find that such preferred stock had a value of $652,180.7 We find it difficult to believe that stock worth $652,180 would be redeemable for only $100,000. Although petitioner maintains that the conversion privilege that accompanied the series B preferred\n",
      "contends that Pittsburgh Terminal Corp. is not distinguishable from the instant case because as long as the preferred stock issued to Ferroxcube is outstanding, the restrictions placed upon\n",
      "agreement restricted the payment of dividends or the distribution of property to the common stockholders, it did not totally prohibit such distributions but simply set forth conditions\n",
      "000 shares of petitioner’s common stock were outstanding and another 40,000 had been subscribed, while the series\n",
      "common stock\n",
      "2025 Thomson\n",
      "No claim to original U.S. Government\n",
      "Park Amusement\n",
      "Document\n",
      "Reuters.\n",
      "We\n",
      "e must\n",
      "New static block\n",
      "New static block\n",
      "\n",
      "Passage:\n",
      "Memory Systems Division, they had decided to scrap its assets for salvage value. After Ferroxcube had been unable to find a buyer, four key management employees of the Memory\n",
      "\n"
     ]
    },
    {
     "name": "stderr",
     "output_type": "stream",
     "text": [
      "gpt-5-mini:  60%|██████    | 6/10 [00:17<00:10,  2.62s/it]"
     ]
    },
    {
     "name": "stdout",
     "output_type": "stream",
     "text": [
      "This is the response: Response(id='resp_03b6eb853beb60680068efceb1b0ac81978317d0418ad1d529', created_at=1760546481.0, error=None, incomplete_details=None, instructions=None, metadata={}, model='gpt-5-mini-2025-08-07', object='response', output=[ResponseReasoningItem(id='rs_03b6eb853beb60680068efceb262588197aa538f15fecf5652', summary=[], type='reasoning', content=None, encrypted_content=None, status=None), ResponseOutputMessage(id='msg_03b6eb853beb60680068efceb4019c8197aee67d5d5d6f5c41', content=[ResponseOutputText(annotations=[], text='Class:Background Facts', type='output_text', logprobs=[])], role='assistant', status='completed', type='message')], parallel_tool_calls=True, temperature=1.0, tool_choice='auto', tools=[], top_p=1.0, background=False, conversation=None, max_output_tokens=1024, max_tool_calls=None, previous_response_id=None, prompt=None, prompt_cache_key=None, reasoning=Reasoning(effort='low', generate_summary=None, summary=None), safety_identifier=None, service_tier='default', status='completed', text=ResponseTextConfig(format=ResponseFormatText(type='text'), verbosity='medium'), top_logprobs=0, truncation='disabled', usage=ResponseUsage(input_tokens=1232, input_tokens_details=InputTokensDetails(cached_tokens=0), output_tokens=74, output_tokens_details=OutputTokensDetails(reasoning_tokens=64), total_tokens=1306), user=None, billing={'payer': 'developer'}, store=True)\n",
      "[test_mode] Raw response:\n",
      "Class:Background Facts\n",
      "[test_mode] Parsed label: Background Facts\n",
      "\n",
      "[test_mode] Prompt:\n",
      "Classify the target passage into one of the following labels and following the following guidelines: Analysis, Background Facts, Conclusion, Procedural History, or Rule. Respond with a single line in the exact format Class:[label].\n",
      "\n",
      "Additional Annotation Guidelines:\n",
      "- Background Facts: one continuous block (often long); may include IRS administrative actions (audits, assessments), and attributions like 'The Tax Court found...'; must not overlap with other spans; never connect with relations/arrows.\n",
      "- Procedural History: one continuous block; ONLY court procedure (complaints, motions, judgments, appeals, remands, cert petitions/grants). IRS administrative steps belong in Background Facts. Suing in court for a refund is Procedural History; paying IRS/requesting refund/administrative denial are Background Facts. May include recap of lower court’s reasoning. For Supreme Court, include cert petition/grant. Never connect with relations/arrows.\n",
      "- Non-overlap: Background Facts and Procedural History never overlap with each other or with Rule/Analysis/Conclusion.\n",
      "- Ignore early summaries: If the opening 1–3 paragraphs briefly summarize facts/procedure/law/holding and the same material appears later in detail, do NOT annotate those early summaries.\n",
      "- Rule: include legal principles AND their citations (cases, statutes, secondary sources) at the end of the Rule span.\n",
      "- CRAC handling: In a classic CRAC paragraph, initial Conclusion (C) is NOT annotated; Rule (R) is Rule; Analysis (A) is Analysis; the final C is often a second Analysis or a second Rule. Draw arrows/relations from the Rule and first Analysis to that second Analysis. If the conclusion appears only at the start (CRA), label that starting C as Analysis and point R and A back to it.\n",
      "- IRAC/CRAC exclusions: The 'I' in IRAC and the initial 'C' in CRAC are not annotated.\n",
      "- Unannotated exceptions: Court observations (historical/contextual remarks), pure party-argument recitals before evaluation (these are the 'I'), and statements of what the court is not deciding.\n",
      "- Distinguishing precedent: Put precedent’s facts/holding in Rule; explain why it doesn’t apply in Analysis; the resulting non-application conclusion is a second Analysis that points to the surviving Analysis/Conclusion.\n",
      "- Conclusions: At least one Conclusion per case. If only the disposition is stated (e.g., 'Judgment affirmed', 'Summary judgment granted'), annotate that as Conclusion. Multiple issues can yield multiple Conclusions.\n",
      "\n",
      "Context:\n",
      "Ferroxcube and correspondingly its cost basis in the assets it received from Ferroxcube by reference to the value of those assets. In Pittsburgh Terminal Corp., a newly formed corporation received virtually all of its assets in exchange for all but an insignificant portion of its stock. To ascertain the corporation’s basis in the property received, this\n",
      "determined the value of such stock by reference to the fair market value of the\n",
      "Regardless of the precise rule of valuation that we were attempting to apply, we have always followed the evidence of value on either side\n",
      "are acquired with such stock, we think that it is nonsensical to try to look at\n",
      "basis of the record before us, we find that Pittsburgh Terminal Corp. is distinguishable. First, in Pittsburgh Terminal Corp., all but an insignificant portion of the corporation’s stock\n",
      "Memory Systems Division, they had decided to scrap its assets for salvage value. After Ferroxcube had been unable to find a buyer, four key management employees of the Memory\n",
      "petitioner had been organized by four employees of the Memory Systems Division who must have known the options that Ferroxcube faced, it is clear that Ferroxcube was placed at a\n",
      "While it may be true that the stock of a going concern\n",
      "ordinary sense of that term. See C. G. Meaker Co. v. Commissioner, 16 T.C. 1348 (1951). Fair market value has been defined as the price at which property would be sold by a knowledgeable seller to a knowledgeable buyer with neither party\n",
      "Nevertheless, where stock is exchanged for property pursuant to an arm’s-length transaction, the courts have, in certain instances, presumed that the value of such stock equaled the value of the property received in exchange therefor. See Pittsburgh Terminal Corp. v. Commissioner, supra; Moore-McCormack\n",
      "Division. Furthermore, respondent maintains that the preferred stock issued to Ferroxcube\n",
      "should be presumed to be equal to the value of the assets that it received in exchange therefor. Respondent, on the other hand, contends that it is inappropriate\n",
      "presumed\n",
      "Petitioner maintains that the value of the preferred stock issued to Ferroxcube is not ascertainable.\n",
      "determine whether petitioner’s cost basis in the assets that it purchased from Ferroxcube is\n",
      "considered to be the most reliable. * * * [60 T.C. at 88;\n",
      "were redeemable by petitioner for a total price of $100,000. To accept petitioner’s position, we would have to find that such preferred stock had a value of $652,180.7 We find it difficult to believe that stock worth $652,180 would be redeemable for only $100,000. Although petitioner maintains that the conversion privilege that accompanied the series B preferred\n",
      "contends that Pittsburgh Terminal Corp. is not distinguishable from the instant case because as long as the preferred stock issued to Ferroxcube is outstanding, the restrictions placed upon\n",
      "agreement restricted the payment of dividends or the distribution of property to the common stockholders, it did not totally prohibit such distributions but simply set forth conditions\n",
      "000 shares of petitioner’s common stock were outstanding and another 40,000 had been subscribed, while the series\n",
      "common stock\n",
      "2025 Thomson\n",
      "No claim to original U.S. Government\n",
      "Park Amusement\n",
      "Document\n",
      "Reuters.\n",
      "We\n",
      "e must\n",
      "New static block\n",
      "New static block\n",
      "\n",
      "Passage:\n",
      "Consequently, it appears that *965 petitioner was the only party interested in purchasing the Memory Systems Division,\n",
      "\n"
     ]
    },
    {
     "name": "stderr",
     "output_type": "stream",
     "text": [
      "gpt-5-mini:  70%|███████   | 7/10 [00:19<00:07,  2.42s/it]"
     ]
    },
    {
     "name": "stdout",
     "output_type": "stream",
     "text": [
      "This is the response: Response(id='resp_06d9cd1c07c2928c0068efceb47a9c819780e3221841dd6199', created_at=1760546484.0, error=None, incomplete_details=None, instructions=None, metadata={}, model='gpt-5-mini-2025-08-07', object='response', output=[ResponseReasoningItem(id='rs_06d9cd1c07c2928c0068efceb52904819797d9265445e78500', summary=[], type='reasoning', content=None, encrypted_content=None, status=None), ResponseOutputMessage(id='msg_06d9cd1c07c2928c0068efceb60ffc8197a9af070298ca75fb', content=[ResponseOutputText(annotations=[], text='Class:Analysis', type='output_text', logprobs=[])], role='assistant', status='completed', type='message')], parallel_tool_calls=True, temperature=1.0, tool_choice='auto', tools=[], top_p=1.0, background=False, conversation=None, max_output_tokens=1024, max_tool_calls=None, previous_response_id=None, prompt=None, prompt_cache_key=None, reasoning=Reasoning(effort='low', generate_summary=None, summary=None), safety_identifier=None, service_tier='default', status='completed', text=ResponseTextConfig(format=ResponseFormatText(type='text'), verbosity='medium'), top_logprobs=0, truncation='disabled', usage=ResponseUsage(input_tokens=1232, input_tokens_details=InputTokensDetails(cached_tokens=0), output_tokens=73, output_tokens_details=OutputTokensDetails(reasoning_tokens=64), total_tokens=1305), user=None, billing={'payer': 'developer'}, store=True)\n",
      "[test_mode] Raw response:\n",
      "Class:Analysis\n",
      "[test_mode] Parsed label: Analysis\n",
      "\n",
      "[test_mode] Prompt:\n",
      "Classify the target passage into one of the following labels and following the following guidelines: Analysis, Background Facts, Conclusion, Procedural History, or Rule. Respond with a single line in the exact format Class:[label].\n",
      "\n",
      "Additional Annotation Guidelines:\n",
      "- Background Facts: one continuous block (often long); may include IRS administrative actions (audits, assessments), and attributions like 'The Tax Court found...'; must not overlap with other spans; never connect with relations/arrows.\n",
      "- Procedural History: one continuous block; ONLY court procedure (complaints, motions, judgments, appeals, remands, cert petitions/grants). IRS administrative steps belong in Background Facts. Suing in court for a refund is Procedural History; paying IRS/requesting refund/administrative denial are Background Facts. May include recap of lower court’s reasoning. For Supreme Court, include cert petition/grant. Never connect with relations/arrows.\n",
      "- Non-overlap: Background Facts and Procedural History never overlap with each other or with Rule/Analysis/Conclusion.\n",
      "- Ignore early summaries: If the opening 1–3 paragraphs briefly summarize facts/procedure/law/holding and the same material appears later in detail, do NOT annotate those early summaries.\n",
      "- Rule: include legal principles AND their citations (cases, statutes, secondary sources) at the end of the Rule span.\n",
      "- CRAC handling: In a classic CRAC paragraph, initial Conclusion (C) is NOT annotated; Rule (R) is Rule; Analysis (A) is Analysis; the final C is often a second Analysis or a second Rule. Draw arrows/relations from the Rule and first Analysis to that second Analysis. If the conclusion appears only at the start (CRA), label that starting C as Analysis and point R and A back to it.\n",
      "- IRAC/CRAC exclusions: The 'I' in IRAC and the initial 'C' in CRAC are not annotated.\n",
      "- Unannotated exceptions: Court observations (historical/contextual remarks), pure party-argument recitals before evaluation (these are the 'I'), and statements of what the court is not deciding.\n",
      "- Distinguishing precedent: Put precedent’s facts/holding in Rule; explain why it doesn’t apply in Analysis; the resulting non-application conclusion is a second Analysis that points to the surviving Analysis/Conclusion.\n",
      "- Conclusions: At least one Conclusion per case. If only the disposition is stated (e.g., 'Judgment affirmed', 'Summary judgment granted'), annotate that as Conclusion. Multiple issues can yield multiple Conclusions.\n",
      "\n",
      "Context:\n",
      "Ferroxcube and correspondingly its cost basis in the assets it received from Ferroxcube by reference to the value of those assets. In Pittsburgh Terminal Corp., a newly formed corporation received virtually all of its assets in exchange for all but an insignificant portion of its stock. To ascertain the corporation’s basis in the property received, this\n",
      "determined the value of such stock by reference to the fair market value of the\n",
      "Regardless of the precise rule of valuation that we were attempting to apply, we have always followed the evidence of value on either side\n",
      "are acquired with such stock, we think that it is nonsensical to try to look at\n",
      "basis of the record before us, we find that Pittsburgh Terminal Corp. is distinguishable. First, in Pittsburgh Terminal Corp., all but an insignificant portion of the corporation’s stock\n",
      "Memory Systems Division, they had decided to scrap its assets for salvage value. After Ferroxcube had been unable to find a buyer, four key management employees of the Memory\n",
      "Consequently, it appears that *965 petitioner was the only party interested in purchasing the Memory Systems Division,\n",
      "While it may be true that the stock of a going concern\n",
      "ordinary sense of that term. See C. G. Meaker Co. v. Commissioner, 16 T.C. 1348 (1951). Fair market value has been defined as the price at which property would be sold by a knowledgeable seller to a knowledgeable buyer with neither party\n",
      "Nevertheless, where stock is exchanged for property pursuant to an arm’s-length transaction, the courts have, in certain instances, presumed that the value of such stock equaled the value of the property received in exchange therefor. See Pittsburgh Terminal Corp. v. Commissioner, supra; Moore-McCormack\n",
      "Division. Furthermore, respondent maintains that the preferred stock issued to Ferroxcube\n",
      "should be presumed to be equal to the value of the assets that it received in exchange therefor. Respondent, on the other hand, contends that it is inappropriate\n",
      "presumed\n",
      "Petitioner maintains that the value of the preferred stock issued to Ferroxcube is not ascertainable.\n",
      "determine whether petitioner’s cost basis in the assets that it purchased from Ferroxcube is\n",
      "considered to be the most reliable. * * * [60 T.C. at 88;\n",
      "were redeemable by petitioner for a total price of $100,000. To accept petitioner’s position, we would have to find that such preferred stock had a value of $652,180.7 We find it difficult to believe that stock worth $652,180 would be redeemable for only $100,000. Although petitioner maintains that the conversion privilege that accompanied the series B preferred\n",
      "contends that Pittsburgh Terminal Corp. is not distinguishable from the instant case because as long as the preferred stock issued to Ferroxcube is outstanding, the restrictions placed upon\n",
      "agreement restricted the payment of dividends or the distribution of property to the common stockholders, it did not totally prohibit such distributions but simply set forth conditions\n",
      "000 shares of petitioner’s common stock were outstanding and another 40,000 had been subscribed, while the series\n",
      "common stock\n",
      "2025 Thomson\n",
      "No claim to original U.S. Government\n",
      "Park Amusement\n",
      "Document\n",
      "Reuters.\n",
      "We\n",
      "e must\n",
      "New static block\n",
      "New static block\n",
      "\n",
      "Passage:\n",
      "petitioner had been organized by four employees of the Memory Systems Division who must have known the options that Ferroxcube faced, it is clear that Ferroxcube was placed at a\n",
      "\n"
     ]
    },
    {
     "name": "stderr",
     "output_type": "stream",
     "text": [
      "gpt-5-mini:  80%|████████  | 8/10 [00:21<00:04,  2.20s/it]"
     ]
    },
    {
     "name": "stdout",
     "output_type": "stream",
     "text": [
      "This is the response: Response(id='resp_0aa8d256bce5b8d30068efceb680a8819587aabc0152771316', created_at=1760546486.0, error=None, incomplete_details=None, instructions=None, metadata={}, model='gpt-5-mini-2025-08-07', object='response', output=[ResponseReasoningItem(id='rs_0aa8d256bce5b8d30068efceb6e4c48195b798ec98f059ab11', summary=[], type='reasoning', content=None, encrypted_content=None, status=None), ResponseOutputMessage(id='msg_0aa8d256bce5b8d30068efceb7d8688195b54b1c39a0998df4', content=[ResponseOutputText(annotations=[], text='Class:Background Facts', type='output_text', logprobs=[])], role='assistant', status='completed', type='message')], parallel_tool_calls=True, temperature=1.0, tool_choice='auto', tools=[], top_p=1.0, background=False, conversation=None, max_output_tokens=1024, max_tool_calls=None, previous_response_id=None, prompt=None, prompt_cache_key=None, reasoning=Reasoning(effort='low', generate_summary=None, summary=None), safety_identifier=None, service_tier='default', status='completed', text=ResponseTextConfig(format=ResponseFormatText(type='text'), verbosity='medium'), top_logprobs=0, truncation='disabled', usage=ResponseUsage(input_tokens=1232, input_tokens_details=InputTokensDetails(cached_tokens=0), output_tokens=74, output_tokens_details=OutputTokensDetails(reasoning_tokens=64), total_tokens=1306), user=None, billing={'payer': 'developer'}, store=True)\n",
      "[test_mode] Raw response:\n",
      "Class:Background Facts\n",
      "[test_mode] Parsed label: Background Facts\n",
      "\n",
      "[test_mode] Prompt:\n",
      "Classify the target passage into one of the following labels and following the following guidelines: Analysis, Background Facts, Conclusion, Procedural History, or Rule. Respond with a single line in the exact format Class:[label].\n",
      "\n",
      "Additional Annotation Guidelines:\n",
      "- Background Facts: one continuous block (often long); may include IRS administrative actions (audits, assessments), and attributions like 'The Tax Court found...'; must not overlap with other spans; never connect with relations/arrows.\n",
      "- Procedural History: one continuous block; ONLY court procedure (complaints, motions, judgments, appeals, remands, cert petitions/grants). IRS administrative steps belong in Background Facts. Suing in court for a refund is Procedural History; paying IRS/requesting refund/administrative denial are Background Facts. May include recap of lower court’s reasoning. For Supreme Court, include cert petition/grant. Never connect with relations/arrows.\n",
      "- Non-overlap: Background Facts and Procedural History never overlap with each other or with Rule/Analysis/Conclusion.\n",
      "- Ignore early summaries: If the opening 1–3 paragraphs briefly summarize facts/procedure/law/holding and the same material appears later in detail, do NOT annotate those early summaries.\n",
      "- Rule: include legal principles AND their citations (cases, statutes, secondary sources) at the end of the Rule span.\n",
      "- CRAC handling: In a classic CRAC paragraph, initial Conclusion (C) is NOT annotated; Rule (R) is Rule; Analysis (A) is Analysis; the final C is often a second Analysis or a second Rule. Draw arrows/relations from the Rule and first Analysis to that second Analysis. If the conclusion appears only at the start (CRA), label that starting C as Analysis and point R and A back to it.\n",
      "- IRAC/CRAC exclusions: The 'I' in IRAC and the initial 'C' in CRAC are not annotated.\n",
      "- Unannotated exceptions: Court observations (historical/contextual remarks), pure party-argument recitals before evaluation (these are the 'I'), and statements of what the court is not deciding.\n",
      "- Distinguishing precedent: Put precedent’s facts/holding in Rule; explain why it doesn’t apply in Analysis; the resulting non-application conclusion is a second Analysis that points to the surviving Analysis/Conclusion.\n",
      "- Conclusions: At least one Conclusion per case. If only the disposition is stated (e.g., 'Judgment affirmed', 'Summary judgment granted'), annotate that as Conclusion. Multiple issues can yield multiple Conclusions.\n",
      "\n",
      "Context:\n",
      "Ferroxcube and correspondingly its cost basis in the assets it received from Ferroxcube by reference to the value of those assets. In Pittsburgh Terminal Corp., a newly formed corporation received virtually all of its assets in exchange for all but an insignificant portion of its stock. To ascertain the corporation’s basis in the property received, this\n",
      "determined the value of such stock by reference to the fair market value of the\n",
      "Regardless of the precise rule of valuation that we were attempting to apply, we have always followed the evidence of value on either side\n",
      "are acquired with such stock, we think that it is nonsensical to try to look at\n",
      "basis of the record before us, we find that Pittsburgh Terminal Corp. is distinguishable. First, in Pittsburgh Terminal Corp., all but an insignificant portion of the corporation’s stock\n",
      "Memory Systems Division, they had decided to scrap its assets for salvage value. After Ferroxcube had been unable to find a buyer, four key management employees of the Memory\n",
      "Consequently, it appears that *965 petitioner was the only party interested in purchasing the Memory Systems Division,\n",
      "petitioner had been organized by four employees of the Memory Systems Division who must have known the options that Ferroxcube faced, it is clear that Ferroxcube was placed at a\n",
      "ordinary sense of that term. See C. G. Meaker Co. v. Commissioner, 16 T.C. 1348 (1951). Fair market value has been defined as the price at which property would be sold by a knowledgeable seller to a knowledgeable buyer with neither party\n",
      "Nevertheless, where stock is exchanged for property pursuant to an arm’s-length transaction, the courts have, in certain instances, presumed that the value of such stock equaled the value of the property received in exchange therefor. See Pittsburgh Terminal Corp. v. Commissioner, supra; Moore-McCormack\n",
      "Division. Furthermore, respondent maintains that the preferred stock issued to Ferroxcube\n",
      "should be presumed to be equal to the value of the assets that it received in exchange therefor. Respondent, on the other hand, contends that it is inappropriate\n",
      "presumed\n",
      "Petitioner maintains that the value of the preferred stock issued to Ferroxcube is not ascertainable.\n",
      "determine whether petitioner’s cost basis in the assets that it purchased from Ferroxcube is\n",
      "considered to be the most reliable. * * * [60 T.C. at 88;\n",
      "were redeemable by petitioner for a total price of $100,000. To accept petitioner’s position, we would have to find that such preferred stock had a value of $652,180.7 We find it difficult to believe that stock worth $652,180 would be redeemable for only $100,000. Although petitioner maintains that the conversion privilege that accompanied the series B preferred\n",
      "contends that Pittsburgh Terminal Corp. is not distinguishable from the instant case because as long as the preferred stock issued to Ferroxcube is outstanding, the restrictions placed upon\n",
      "agreement restricted the payment of dividends or the distribution of property to the common stockholders, it did not totally prohibit such distributions but simply set forth conditions\n",
      "000 shares of petitioner’s common stock were outstanding and another 40,000 had been subscribed, while the series\n",
      "common stock\n",
      "2025 Thomson\n",
      "No claim to original U.S. Government\n",
      "Park Amusement\n",
      "Document\n",
      "Reuters.\n",
      "We\n",
      "e must\n",
      "New static block\n",
      "New static block\n",
      "\n",
      "Passage:\n",
      "While it may be true that the stock of a going concern\n",
      "\n"
     ]
    },
    {
     "name": "stderr",
     "output_type": "stream",
     "text": [
      "gpt-5-mini:  90%|█████████ | 9/10 [00:23<00:02,  2.17s/it]"
     ]
    },
    {
     "name": "stdout",
     "output_type": "stream",
     "text": [
      "This is the response: Response(id='resp_0fc77fcd908f1baa0068efceb8444481909f1e59bd41e8b6b2', created_at=1760546488.0, error=None, incomplete_details=None, instructions=None, metadata={}, model='gpt-5-mini-2025-08-07', object='response', output=[ResponseReasoningItem(id='rs_0fc77fcd908f1baa0068efceb90a4c81909aeebe1bfcb671a0', summary=[], type='reasoning', content=None, encrypted_content=None, status=None), ResponseOutputMessage(id='msg_0fc77fcd908f1baa0068efceb991708190be500570fc1b8eda', content=[ResponseOutputText(annotations=[], text='Class:Analysis', type='output_text', logprobs=[])], role='assistant', status='completed', type='message')], parallel_tool_calls=True, temperature=1.0, tool_choice='auto', tools=[], top_p=1.0, background=False, conversation=None, max_output_tokens=1024, max_tool_calls=None, previous_response_id=None, prompt=None, prompt_cache_key=None, reasoning=Reasoning(effort='low', generate_summary=None, summary=None), safety_identifier=None, service_tier='default', status='completed', text=ResponseTextConfig(format=ResponseFormatText(type='text'), verbosity='medium'), top_logprobs=0, truncation='disabled', usage=ResponseUsage(input_tokens=1232, input_tokens_details=InputTokensDetails(cached_tokens=0), output_tokens=9, output_tokens_details=OutputTokensDetails(reasoning_tokens=0), total_tokens=1241), user=None, billing={'payer': 'developer'}, store=True)\n",
      "[test_mode] Raw response:\n",
      "Class:Analysis\n",
      "[test_mode] Parsed label: Analysis\n",
      "\n",
      "[test_mode] Prompt:\n",
      "Classify the target passage into one of the following labels and following the following guidelines: Analysis, Background Facts, Conclusion, Procedural History, or Rule. Respond with a single line in the exact format Class:[label].\n",
      "\n",
      "Additional Annotation Guidelines:\n",
      "- Background Facts: one continuous block (often long); may include IRS administrative actions (audits, assessments), and attributions like 'The Tax Court found...'; must not overlap with other spans; never connect with relations/arrows.\n",
      "- Procedural History: one continuous block; ONLY court procedure (complaints, motions, judgments, appeals, remands, cert petitions/grants). IRS administrative steps belong in Background Facts. Suing in court for a refund is Procedural History; paying IRS/requesting refund/administrative denial are Background Facts. May include recap of lower court’s reasoning. For Supreme Court, include cert petition/grant. Never connect with relations/arrows.\n",
      "- Non-overlap: Background Facts and Procedural History never overlap with each other or with Rule/Analysis/Conclusion.\n",
      "- Ignore early summaries: If the opening 1–3 paragraphs briefly summarize facts/procedure/law/holding and the same material appears later in detail, do NOT annotate those early summaries.\n",
      "- Rule: include legal principles AND their citations (cases, statutes, secondary sources) at the end of the Rule span.\n",
      "- CRAC handling: In a classic CRAC paragraph, initial Conclusion (C) is NOT annotated; Rule (R) is Rule; Analysis (A) is Analysis; the final C is often a second Analysis or a second Rule. Draw arrows/relations from the Rule and first Analysis to that second Analysis. If the conclusion appears only at the start (CRA), label that starting C as Analysis and point R and A back to it.\n",
      "- IRAC/CRAC exclusions: The 'I' in IRAC and the initial 'C' in CRAC are not annotated.\n",
      "- Unannotated exceptions: Court observations (historical/contextual remarks), pure party-argument recitals before evaluation (these are the 'I'), and statements of what the court is not deciding.\n",
      "- Distinguishing precedent: Put precedent’s facts/holding in Rule; explain why it doesn’t apply in Analysis; the resulting non-application conclusion is a second Analysis that points to the surviving Analysis/Conclusion.\n",
      "- Conclusions: At least one Conclusion per case. If only the disposition is stated (e.g., 'Judgment affirmed', 'Summary judgment granted'), annotate that as Conclusion. Multiple issues can yield multiple Conclusions.\n",
      "\n",
      "Context:\n",
      "Ferroxcube and correspondingly its cost basis in the assets it received from Ferroxcube by reference to the value of those assets. In Pittsburgh Terminal Corp., a newly formed corporation received virtually all of its assets in exchange for all but an insignificant portion of its stock. To ascertain the corporation’s basis in the property received, this\n",
      "determined the value of such stock by reference to the fair market value of the\n",
      "Regardless of the precise rule of valuation that we were attempting to apply, we have always followed the evidence of value on either side\n",
      "are acquired with such stock, we think that it is nonsensical to try to look at\n",
      "basis of the record before us, we find that Pittsburgh Terminal Corp. is distinguishable. First, in Pittsburgh Terminal Corp., all but an insignificant portion of the corporation’s stock\n",
      "Memory Systems Division, they had decided to scrap its assets for salvage value. After Ferroxcube had been unable to find a buyer, four key management employees of the Memory\n",
      "Consequently, it appears that *965 petitioner was the only party interested in purchasing the Memory Systems Division,\n",
      "petitioner had been organized by four employees of the Memory Systems Division who must have known the options that Ferroxcube faced, it is clear that Ferroxcube was placed at a\n",
      "While it may be true that the stock of a going concern\n",
      "Nevertheless, where stock is exchanged for property pursuant to an arm’s-length transaction, the courts have, in certain instances, presumed that the value of such stock equaled the value of the property received in exchange therefor. See Pittsburgh Terminal Corp. v. Commissioner, supra; Moore-McCormack\n",
      "Division. Furthermore, respondent maintains that the preferred stock issued to Ferroxcube\n",
      "should be presumed to be equal to the value of the assets that it received in exchange therefor. Respondent, on the other hand, contends that it is inappropriate\n",
      "presumed\n",
      "Petitioner maintains that the value of the preferred stock issued to Ferroxcube is not ascertainable.\n",
      "determine whether petitioner’s cost basis in the assets that it purchased from Ferroxcube is\n",
      "considered to be the most reliable. * * * [60 T.C. at 88;\n",
      "were redeemable by petitioner for a total price of $100,000. To accept petitioner’s position, we would have to find that such preferred stock had a value of $652,180.7 We find it difficult to believe that stock worth $652,180 would be redeemable for only $100,000. Although petitioner maintains that the conversion privilege that accompanied the series B preferred\n",
      "contends that Pittsburgh Terminal Corp. is not distinguishable from the instant case because as long as the preferred stock issued to Ferroxcube is outstanding, the restrictions placed upon\n",
      "agreement restricted the payment of dividends or the distribution of property to the common stockholders, it did not totally prohibit such distributions but simply set forth conditions\n",
      "000 shares of petitioner’s common stock were outstanding and another 40,000 had been subscribed, while the series\n",
      "common stock\n",
      "2025 Thomson\n",
      "No claim to original U.S. Government\n",
      "Park Amusement\n",
      "Document\n",
      "Reuters.\n",
      "We\n",
      "e must\n",
      "New static block\n",
      "New static block\n",
      "\n",
      "Passage:\n",
      "ordinary sense of that term. See C. G. Meaker Co. v. Commissioner, 16 T.C. 1348 (1951). Fair market value has been defined as the price at which property would be sold by a knowledgeable seller to a knowledgeable buyer with neither party\n",
      "\n"
     ]
    },
    {
     "name": "stderr",
     "output_type": "stream",
     "text": [
      "gpt-5-mini: 100%|██████████| 10/10 [00:26<00:00,  2.61s/it]"
     ]
    },
    {
     "name": "stdout",
     "output_type": "stream",
     "text": [
      "This is the response: Response(id='resp_042d377ba62be7480068efceba938881909dba031f7ec011a3', created_at=1760546490.0, error=None, incomplete_details=None, instructions=None, metadata={}, model='gpt-5-mini-2025-08-07', object='response', output=[ResponseReasoningItem(id='rs_042d377ba62be7480068efcebb03708190b00fdea70c5c76f1', summary=[], type='reasoning', content=None, encrypted_content=None, status=None), ResponseOutputMessage(id='msg_042d377ba62be7480068efcebc7760819096f05712eafa49e4', content=[ResponseOutputText(annotations=[], text='Class:Rule', type='output_text', logprobs=[])], role='assistant', status='completed', type='message')], parallel_tool_calls=True, temperature=1.0, tool_choice='auto', tools=[], top_p=1.0, background=False, conversation=None, max_output_tokens=1024, max_tool_calls=None, previous_response_id=None, prompt=None, prompt_cache_key=None, reasoning=Reasoning(effort='low', generate_summary=None, summary=None), safety_identifier=None, service_tier='default', status='completed', text=ResponseTextConfig(format=ResponseFormatText(type='text'), verbosity='medium'), top_logprobs=0, truncation='disabled', usage=ResponseUsage(input_tokens=1232, input_tokens_details=InputTokensDetails(cached_tokens=0), output_tokens=73, output_tokens_details=OutputTokensDetails(reasoning_tokens=64), total_tokens=1305), user=None, billing={'payer': 'developer'}, store=True)\n",
      "[test_mode] Raw response:\n",
      "Class:Rule\n",
      "[test_mode] Parsed label: Rule\n"
     ]
    },
    {
     "name": "stderr",
     "output_type": "stream",
     "text": [
      "\n"
     ]
    }
   ],
   "execution_count": 2
  },
  {
   "metadata": {
    "ExecuteTime": {
     "end_time": "2025-10-14T19:19:03.111170Z",
     "start_time": "2025-10-14T19:19:03.108314Z"
    }
   },
   "cell_type": "code",
   "source": "print(results[\"gpt5\"])",
   "id": "954879388d2eb45",
   "outputs": [
    {
     "name": "stdout",
     "output_type": "stream",
     "text": [
      "{'report': {'Analysis': {'precision': 0.7257383966244726, 'recall': 0.5408805031446541, 'f1-score': 0.6198198198198198, 'support': 318.0}, 'Background Facts': {'precision': 0.35, 'recall': 0.875, 'f1-score': 0.5, 'support': 56.0}, 'Conclusion': {'precision': 0.5900621118012422, 'recall': 0.6834532374100719, 'f1-score': 0.6333333333333333, 'support': 139.0}, 'Procedural History': {'precision': 0.7288135593220338, 'recall': 0.6056338028169014, 'f1-score': 0.6615384615384615, 'support': 71.0}, 'Rule': {'precision': 0.8062015503875969, 'recall': 0.7675276752767528, 'f1-score': 0.7863894139886578, 'support': 271.0}, 'accuracy': 0.6631578947368421, 'macro avg': {'precision': 0.6401631236270691, 'recall': 0.694499043729676, 'f1-score': 0.6402162057360544, 'support': 855.0}, 'weighted avg': {'precision': 0.7048302064723487, 'recall': 0.6631578947368421, 'f1-score': 0.6704290035043193, 'support': 855.0}}, 'prediction_column': 'prediction_gpt5'}\n"
     ]
    }
   ],
   "execution_count": 2
  },
  {
   "metadata": {
    "ExecuteTime": {
     "end_time": "2025-10-15T16:11:53.154076Z",
     "start_time": "2025-10-15T16:11:52.432516Z"
    }
   },
   "cell_type": "code",
   "source": [
    "from sagemaker.huggingface import HuggingFaceModel, get_huggingface_llm_image_uri\n",
    "\n",
    "print(f\"TGI GPU: {get_huggingface_llm_image_uri('huggingface')}\")\n",
    "print(f\"TEI GPU: {get_huggingface_llm_image_uri('huggingface-tei')}\")\n",
    "print(f\"TEI CPU: {get_huggingface_llm_image_uri('huggingface-tei-cpu')}\")\n",
    "print(f\"TGI Neuron: {get_huggingface_llm_image_uri('huggingface-neuronx')}\")"
   ],
   "id": "6c4a4bcbb0191f0b",
   "outputs": [
    {
     "name": "stdout",
     "output_type": "stream",
     "text": [
      "TGI GPU: 763104351884.dkr.ecr.us-east-1.amazonaws.com/huggingface-pytorch-tgi-inference:2.6.0-tgi3.2.3-gpu-py311-cu124-ubuntu22.04\n",
      "TEI GPU: 683313688378.dkr.ecr.us-east-1.amazonaws.com/tei:2.0.1-tei1.8.2-gpu-py310-cu122-ubuntu22.04\n",
      "TEI CPU: 683313688378.dkr.ecr.us-east-1.amazonaws.com/tei-cpu:2.0.1-tei1.8.2-cpu-py310-ubuntu22.04\n",
      "TGI Neuron: 763104351884.dkr.ecr.us-east-1.amazonaws.com/huggingface-pytorch-tgi-inference:2.1.2-optimum0.0.28-neuronx-py310-ubuntu22.04\n"
     ]
    }
   ],
   "execution_count": 3
  },
  {
   "metadata": {
    "ExecuteTime": {
     "end_time": "2025-10-15T00:17:27.599813Z",
     "start_time": "2025-10-15T00:17:27.595021Z"
    }
   },
   "cell_type": "code",
   "source": [
    "import sys\n",
    "import sagemaker\n",
    "import transformers\n",
    "print(f\"Python Version: {sys.version}\")\n",
    "print(f\"Sagemaker Version: {sagemaker.__version__}\")\n",
    "print"
   ],
   "id": "d27d18e39691e286",
   "outputs": [
    {
     "name": "stdout",
     "output_type": "stream",
     "text": [
      "Python Version: 3.10.12 (main, Jul  5 2023, 18:54:27) [GCC 11.2.0]\n",
      "Sagemaker Version: 2.253.1\n",
      "Transformer Version: 4.49.0\n"
     ]
    }
   ],
   "execution_count": 7
  },
  {
   "metadata": {
    "ExecuteTime": {
     "end_time": "2025-10-15T16:23:10.300072Z",
     "start_time": "2025-10-15T16:23:10.297774Z"
    }
   },
   "cell_type": "code",
   "source": [
    "import sagemaker\n",
    "print(sagemaker.__version__)"
   ],
   "id": "7817e8083c2bc833",
   "outputs": [
    {
     "name": "stdout",
     "output_type": "stream",
     "text": [
      "2.253.1\n"
     ]
    }
   ],
   "execution_count": 4
  },
  {
   "metadata": {},
   "cell_type": "code",
   "outputs": [],
   "execution_count": null,
   "source": "",
   "id": "dce4d34ab803710b"
  }
 ],
 "metadata": {
  "kernelspec": {
   "display_name": "ai_agents_kernel",
   "language": "python",
   "name": "ai_agents"
  },
  "language_info": {
   "codemirror_mode": {
    "name": "ipython",
    "version": 2
   },
   "file_extension": ".py",
   "mimetype": "text/x-python",
   "name": "python",
   "nbconvert_exporter": "python",
   "pygments_lexer": "ipython2",
   "version": "2.7.6"
  }
 },
 "nbformat": 4,
 "nbformat_minor": 5
}
